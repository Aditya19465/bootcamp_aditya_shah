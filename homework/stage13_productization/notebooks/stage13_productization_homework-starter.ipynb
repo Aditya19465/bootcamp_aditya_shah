{
 "cells": [
  {
   "cell_type": "markdown",
   "metadata": {},
   "source": [
    "# Stage 13 Homework Starter — Productization\n",
    "\n",
    "## Objective\n",
    "Deploy your trained model as a **reusable, handoff-ready API or dashboard** and finalize your project for reproducibility and clarity."
   ]
  },
  {
   "cell_type": "markdown",
   "metadata": {},
   "source": [
    "## Steps\n",
    "1. Create a mock, very basic analysis in a notebook.\n",
    "2. Clean your notebook by removing exploratory cells and documenting your code.\n",
    "3. Move reusable functions into `/src/`.\n",
    "4. Load your trained model from Stage 12 or earlier stages.\n",
    "5. Pickle/save the model and test reload.\n",
    "6. Implement **either**:\n",
    "   - Flask API with `/predict` endpoint and optional parameters\n",
    "   - Streamlit or Dash dashboard for user interaction\n",
    "7. Include:\n",
    "   - Error handling for invalid inputs\n",
    "   - `requirements.txt` for reproducibility\n",
    "   - Documentation in `README.md`\n",
    "8. Test your deployment locally and provide evidence.\n",
    "9. Organize project folders and finalize notebooks for handoff."
   ]
  },
  {
   "cell_type": "markdown",
   "id": "8e003adc",
   "metadata": {},
   "source": [
    "## 1. Create mock, very basic analysis"
   ]
  },
  {
   "cell_type": "markdown",
   "id": "285f4b6e",
   "metadata": {},
   "source": [
    "Download Required Dependencies"
   ]
  },
  {
   "cell_type": "code",
   "execution_count": 37,
   "id": "892b396f",
   "metadata": {},
   "outputs": [
    {
     "name": "stdout",
     "output_type": "stream",
     "text": [
      "Requirement already satisfied: flask in /opt/miniconda3/envs/fe-course/lib/python3.11/site-packages (3.1.2)\n",
      "Requirement already satisfied: streamlit in /opt/miniconda3/envs/fe-course/lib/python3.11/site-packages (1.49.0)\n",
      "Requirement already satisfied: blinker>=1.9.0 in /opt/miniconda3/envs/fe-course/lib/python3.11/site-packages (from flask) (1.9.0)\n",
      "Requirement already satisfied: click>=8.1.3 in /opt/miniconda3/envs/fe-course/lib/python3.11/site-packages (from flask) (8.2.1)\n",
      "Requirement already satisfied: itsdangerous>=2.2.0 in /opt/miniconda3/envs/fe-course/lib/python3.11/site-packages (from flask) (2.2.0)\n",
      "Requirement already satisfied: jinja2>=3.1.2 in /opt/miniconda3/envs/fe-course/lib/python3.11/site-packages (from flask) (3.1.6)\n",
      "Requirement already satisfied: markupsafe>=2.1.1 in /opt/miniconda3/envs/fe-course/lib/python3.11/site-packages (from flask) (3.0.2)\n",
      "Requirement already satisfied: werkzeug>=3.1.0 in /opt/miniconda3/envs/fe-course/lib/python3.11/site-packages (from flask) (3.1.3)\n",
      "Requirement already satisfied: altair!=5.4.0,!=5.4.1,<6,>=4.0 in /opt/miniconda3/envs/fe-course/lib/python3.11/site-packages (from streamlit) (5.5.0)\n",
      "Requirement already satisfied: cachetools<7,>=4.0 in /opt/miniconda3/envs/fe-course/lib/python3.11/site-packages (from streamlit) (6.2.0)\n",
      "Requirement already satisfied: numpy<3,>=1.23 in /opt/miniconda3/envs/fe-course/lib/python3.11/site-packages (from streamlit) (2.3.2)\n",
      "Requirement already satisfied: packaging<26,>=20 in /opt/miniconda3/envs/fe-course/lib/python3.11/site-packages (from streamlit) (25.0)\n",
      "Requirement already satisfied: pandas<3,>=1.4.0 in /opt/miniconda3/envs/fe-course/lib/python3.11/site-packages (from streamlit) (2.3.1)\n",
      "Requirement already satisfied: pillow<12,>=7.1.0 in /opt/miniconda3/envs/fe-course/lib/python3.11/site-packages (from streamlit) (11.3.0)\n",
      "Requirement already satisfied: protobuf<7,>=3.20 in /opt/miniconda3/envs/fe-course/lib/python3.11/site-packages (from streamlit) (6.32.0)\n",
      "Requirement already satisfied: pyarrow>=7.0 in /opt/miniconda3/envs/fe-course/lib/python3.11/site-packages (from streamlit) (21.0.0)\n",
      "Requirement already satisfied: requests<3,>=2.27 in /opt/miniconda3/envs/fe-course/lib/python3.11/site-packages (from streamlit) (2.32.4)\n",
      "Requirement already satisfied: tenacity<10,>=8.1.0 in /opt/miniconda3/envs/fe-course/lib/python3.11/site-packages (from streamlit) (9.1.2)\n",
      "Requirement already satisfied: toml<2,>=0.10.1 in /opt/miniconda3/envs/fe-course/lib/python3.11/site-packages (from streamlit) (0.10.2)\n",
      "Requirement already satisfied: typing-extensions<5,>=4.4.0 in /opt/miniconda3/envs/fe-course/lib/python3.11/site-packages (from streamlit) (4.14.1)\n",
      "Requirement already satisfied: gitpython!=3.1.19,<4,>=3.0.7 in /opt/miniconda3/envs/fe-course/lib/python3.11/site-packages (from streamlit) (3.1.45)\n",
      "Requirement already satisfied: pydeck<1,>=0.8.0b4 in /opt/miniconda3/envs/fe-course/lib/python3.11/site-packages (from streamlit) (0.9.1)\n",
      "Requirement already satisfied: tornado!=6.5.0,<7,>=6.0.3 in /opt/miniconda3/envs/fe-course/lib/python3.11/site-packages (from streamlit) (6.5.2)\n",
      "Requirement already satisfied: jsonschema>=3.0 in /opt/miniconda3/envs/fe-course/lib/python3.11/site-packages (from altair!=5.4.0,!=5.4.1,<6,>=4.0->streamlit) (4.25.0)\n",
      "Requirement already satisfied: narwhals>=1.14.2 in /opt/miniconda3/envs/fe-course/lib/python3.11/site-packages (from altair!=5.4.0,!=5.4.1,<6,>=4.0->streamlit) (2.2.0)\n",
      "Requirement already satisfied: gitdb<5,>=4.0.1 in /opt/miniconda3/envs/fe-course/lib/python3.11/site-packages (from gitpython!=3.1.19,<4,>=3.0.7->streamlit) (4.0.12)\n",
      "Requirement already satisfied: smmap<6,>=3.0.1 in /opt/miniconda3/envs/fe-course/lib/python3.11/site-packages (from gitdb<5,>=4.0.1->gitpython!=3.1.19,<4,>=3.0.7->streamlit) (5.0.2)\n",
      "Requirement already satisfied: python-dateutil>=2.8.2 in /opt/miniconda3/envs/fe-course/lib/python3.11/site-packages (from pandas<3,>=1.4.0->streamlit) (2.9.0.post0)\n",
      "Requirement already satisfied: pytz>=2020.1 in /opt/miniconda3/envs/fe-course/lib/python3.11/site-packages (from pandas<3,>=1.4.0->streamlit) (2025.2)\n",
      "Requirement already satisfied: tzdata>=2022.7 in /opt/miniconda3/envs/fe-course/lib/python3.11/site-packages (from pandas<3,>=1.4.0->streamlit) (2025.2)\n",
      "Requirement already satisfied: charset_normalizer<4,>=2 in /opt/miniconda3/envs/fe-course/lib/python3.11/site-packages (from requests<3,>=2.27->streamlit) (3.4.3)\n",
      "Requirement already satisfied: idna<4,>=2.5 in /opt/miniconda3/envs/fe-course/lib/python3.11/site-packages (from requests<3,>=2.27->streamlit) (3.10)\n",
      "Requirement already satisfied: urllib3<3,>=1.21.1 in /opt/miniconda3/envs/fe-course/lib/python3.11/site-packages (from requests<3,>=2.27->streamlit) (2.5.0)\n",
      "Requirement already satisfied: certifi>=2017.4.17 in /opt/miniconda3/envs/fe-course/lib/python3.11/site-packages (from requests<3,>=2.27->streamlit) (2025.8.3)\n",
      "Requirement already satisfied: attrs>=22.2.0 in /opt/miniconda3/envs/fe-course/lib/python3.11/site-packages (from jsonschema>=3.0->altair!=5.4.0,!=5.4.1,<6,>=4.0->streamlit) (25.3.0)\n",
      "Requirement already satisfied: jsonschema-specifications>=2023.03.6 in /opt/miniconda3/envs/fe-course/lib/python3.11/site-packages (from jsonschema>=3.0->altair!=5.4.0,!=5.4.1,<6,>=4.0->streamlit) (2025.4.1)\n",
      "Requirement already satisfied: referencing>=0.28.4 in /opt/miniconda3/envs/fe-course/lib/python3.11/site-packages (from jsonschema>=3.0->altair!=5.4.0,!=5.4.1,<6,>=4.0->streamlit) (0.36.2)\n",
      "Requirement already satisfied: rpds-py>=0.7.1 in /opt/miniconda3/envs/fe-course/lib/python3.11/site-packages (from jsonschema>=3.0->altair!=5.4.0,!=5.4.1,<6,>=4.0->streamlit) (0.27.0)\n",
      "Requirement already satisfied: six>=1.5 in /opt/miniconda3/envs/fe-course/lib/python3.11/site-packages (from python-dateutil>=2.8.2->pandas<3,>=1.4.0->streamlit) (1.17.0)\n"
     ]
    }
   ],
   "source": [
    "!pip install flask streamlit"
   ]
  },
  {
   "cell_type": "markdown",
   "id": "90abcd87",
   "metadata": {},
   "source": [
    "Importing Necessary Libraries"
   ]
  },
  {
   "cell_type": "code",
   "execution_count": 38,
   "id": "88fadda7",
   "metadata": {},
   "outputs": [],
   "source": [
    "from sklearn.datasets import make_regression\n",
    "from sklearn.linear_model import LinearRegression\n",
    "import joblib\n",
    "import os\n"
   ]
  },
  {
   "cell_type": "markdown",
   "id": "baf5c564",
   "metadata": {},
   "source": [
    "Data Acquisition and ingestion"
   ]
  },
  {
   "cell_type": "code",
   "execution_count": 39,
   "id": "03ababa4",
   "metadata": {},
   "outputs": [],
   "source": [
    "\n",
    "# Generate synthetic data\n",
    "X, y = make_regression(n_samples=100, n_features=2, noise=0.1, random_state=50)\n",
    "\n"
   ]
  },
  {
   "cell_type": "code",
   "execution_count": 40,
   "id": "e18e8e3a",
   "metadata": {},
   "outputs": [
    {
     "name": "stdout",
     "output_type": "stream",
     "text": [
      "Test prediction: [24.63962033]\n"
     ]
    }
   ],
   "source": [
    "# Create folders if they don't exist\n",
    "os.makedirs('model', exist_ok=True)\n",
    "\n",
    "# Train a basic model\n",
    "model = LinearRegression()\n",
    "model.fit(X, y)\n",
    "\n",
    "\n",
    "\n",
    "# Test that it works\n",
    "print(\"Test prediction:\", model.predict([[0.1, 0.2]]))"
   ]
  },
  {
   "cell_type": "markdown",
   "metadata": {},
   "source": [
    "## 2. Notebook Cleanup\n",
    "Remove exploratory cells and document your code."
   ]
  },
  {
   "cell_type": "code",
   "execution_count": 41,
   "id": "117a0464",
   "metadata": {},
   "outputs": [
    {
     "name": "stdout",
     "output_type": "stream",
     "text": [
      "Notebook cleaned and ready for handoff.\n"
     ]
    }
   ],
   "source": [
    "# TODO: Remove exploratory cells\n",
    "# TODO: Document your code clearly\n",
    "# Example placeholder for cleaned analysis\n",
    "print(\"Notebook cleaned and ready for handoff.\")"
   ]
  },
  {
   "cell_type": "markdown",
   "metadata": {},
   "source": [
    "## 3. Move reusable functions to /src/\n",
    "Create src/utils.py and store functions there."
   ]
  },
  {
   "cell_type": "markdown",
   "id": "44914986",
   "metadata": {},
   "source": [
    "Code Modularization"
   ]
  },
  {
   "cell_type": "code",
   "execution_count": 45,
   "metadata": {},
   "outputs": [
    {
     "name": "stdout",
     "output_type": "stream",
     "text": [
      "Current working directory: /Users/aditya/Documents/bootcamp_aditya_shah/homework\n",
      "Created /src/utils.py with calculate_metrics function.\n",
      "Metrics calculated from utility function: {'mean_y': np.float64(-14.252347300728355), 'sum_y': np.float64(-1425.2347300728354)}\n"
     ]
    }
   ],
   "source": [
    "# Ensure /src/ exists\n",
    "import os\n",
    "# os.chdir(\"../\")  # Change to the parent directory if needed\n",
    "print(\"Current working directory:\", os.getcwd())\n",
    "os.makedirs('/Users/aditya/Documents/bootcamp_aditya_shah/homework/stage13_productization/src', exist_ok=True)\n",
    "\n",
    "# Write a simple utility function to /src/utils.py\n",
    "utils_code = '''\n",
    "def calculate_metrics(X, y):\n",
    "    \"\"\"\n",
    "    Simple function to calculate regression metrics.\n",
    "    Returns dict with mean and sum of outputs.\n",
    "    \"\"\"\n",
    "    return {\"mean_y\": sum(y)/len(y), \"sum_y\": sum(y)}\n",
    "'''\n",
    "\n",
    "with open('/Users/aditya/Documents/bootcamp_aditya_shah/homework/stage13_productization/src/utils.py', 'w') as f:\n",
    "    f.write(utils_code)\n",
    "\n",
    "print(\"Created /src/utils.py with calculate_metrics function.\")\n",
    "\n",
    "# Import and use the function\n",
    "from src.utils import calculate_metrics\n",
    "\n",
    "metrics = calculate_metrics([row[0] for row in X], y)\n",
    "print(\"Metrics calculated from utility function:\", metrics)"
   ]
  },
  {
   "cell_type": "markdown",
   "metadata": {},
   "source": [
    "## 4. Folder Structure Reminder\n",
    "\n",
    "Ensure your project uses a clean folder structure:\n",
    "```\n",
    "project/\n",
    "  data/\n",
    "  notebooks/\n",
    "  src/\n",
    "  reports/\n",
    "  model/\n",
    "  README.md\n",
    "```\n",
    "For API/Dashboard: minimal example:\n",
    "```\n",
    "project/\n",
    "    app.py\n",
    "    model.pkl\n",
    "    requirements.txt\n",
    "    README.md\n",
    "```"
   ]
  },
  {
   "cell_type": "markdown",
   "metadata": {},
   "source": [
    "## 5. Pickle / Save Final Model\n",
    "\n",
    "### TODO: Replace this with your trained model"
   ]
  },
  {
   "cell_type": "markdown",
   "id": "49a3d84d",
   "metadata": {
    "vscode": {
     "languageId": "bat"
    }
   },
   "source": [
    "Model Persistence"
   ]
  },
  {
   "cell_type": "code",
   "execution_count": 12,
   "metadata": {},
   "outputs": [
    {
     "name": "stdout",
     "output_type": "stream",
     "text": [
      "Reloaded model prediction: [24.63962033]\n"
     ]
    }
   ],
   "source": [
    "# Save the model to disk\n",
    "joblib.dump(model, '/Users/aditya/Documents/bootcamp_aditya_shah/homework/stage13_productization/model/model.pkl')\n",
    "\n",
    "# Load the model\n",
    "loaded_model = joblib.load('/Users/aditya/Documents/bootcamp_aditya_shah/homework/stage13_productization/model/model.pkl')\n",
    "print(\"Reloaded model prediction:\", loaded_model.predict([[0.1, 0.2]]))"
   ]
  },
  {
   "cell_type": "markdown",
   "metadata": {},
   "source": [
    "## 6. Flask API Starter\n",
    "\n",
    "### TODO: Implement Flask endpoints for /predict and /plot"
   ]
  },
  {
   "cell_type": "code",
   "execution_count": 46,
   "metadata": {},
   "outputs": [
    {
     "name": "stdout",
     "output_type": "stream",
     "text": [
      "Flask app saved to app.py\n"
     ]
    }
   ],
   "source": [
    "flask_code = '''from flask import Flask, request, jsonify, render_template_string\n",
    "import joblib\n",
    "import matplotlib.pyplot as plt\n",
    "import io, base64\n",
    "\n",
    "# ---- Load your model ----\n",
    "model = joblib.load('model/model.pkl')\n",
    "app = Flask(__name__)\n",
    "\n",
    "# ---- Helper function ----\n",
    "def predict(features):\n",
    "    pred = model.predict([features])[0]\n",
    "    return pred\n",
    "\n",
    "# ---- Home Page ----\n",
    "@app.route('/')\n",
    "def home():\n",
    "    html = \"\"\"\n",
    "    <html>\n",
    "        <body style=\"font-family: Arial; padding:20px;\">\n",
    "            <h1>Welcome to the Flask Model API</h1>\n",
    "            <p>Try these routes:</p>\n",
    "            <ul>\n",
    "                <li><a href=\"/predict/5\">/predict/5</a> → Predict with one input</li>\n",
    "                <li><a href=\"/predict/5/10\">/predict/5/10</a> → Predict with two inputs</li>\n",
    "                <li><a href=\"/plot\">/plot</a> → Show demo plot</li>\n",
    "            </ul>\n",
    "        </body>\n",
    "    </html>\n",
    "    \"\"\"\n",
    "    return render_template_string(html)\n",
    "\n",
    "# ---- JSON Prediction (POST) ----\n",
    "@app.route('/predict', methods=['POST'])\n",
    "def predict_default():\n",
    "    data = request.get_json()\n",
    "    features = data.get('features')\n",
    "    return jsonify({'prediction': float(predict(features))})\n",
    "\n",
    "# ---- Path-based Prediction ----\n",
    "\n",
    "@app.route('/predict/<string:input1>')\n",
    "@app.route('/predict/<string:input1>/<string:input2>')\n",
    "def predict_path(input1, input2=\"none\"):\n",
    "    try:\n",
    "        # convert inputs\n",
    "        features = [float(input1.strip())]\n",
    "        if input2 and input2.lower() != \"none\":\n",
    "            features.append(float(input2.strip()))\n",
    "    except Exception as e:\n",
    "        return jsonify({'error': f'Conversion failed: {input1}, {input2}. Error: {str(e)}'}), 400\n",
    "\n",
    "    try:\n",
    "        # call model\n",
    "        result = float(predict(features))\n",
    "        return jsonify({'prediction': result})\n",
    "    except Exception as e:\n",
    "        return jsonify({'error': f'Model prediction failed for features={features}. Error: {str(e)}'}), 400\n",
    "\n",
    "\n",
    "# ---- Plot Route ----\n",
    "@app.route('/plot')\n",
    "def plot_page():\n",
    "    fig, ax = plt.subplots()\n",
    "    ax.plot([0, 1, 2, 3], [10, 20, 15, 30])\n",
    "    ax.set_title(\"Demo Plot\")\n",
    "    \n",
    "    buf = io.BytesIO()\n",
    "    fig.savefig(buf, format='png')\n",
    "    buf.seek(0)\n",
    "    img_base64 = base64.b64encode(buf.read()).decode('utf-8')\n",
    "    buf.close()\n",
    "    \n",
    "    html = f\"\"\"\n",
    "    <html>\n",
    "        <body style=\"font-family: Arial; padding:20px;\">\n",
    "            <h1>Model Output Plot</h1>\n",
    "            <img src=\"data:image/png;base64,{img_base64}\">\n",
    "            <p><a href='/'>Back Home</a></p>\n",
    "        </body>\n",
    "    </html>\n",
    "    \"\"\"\n",
    "    return render_template_string(html)\n",
    "\n",
    "# ---- Run the app ----\n",
    "if __name__ == '__main__':\n",
    "    app.run(debug=True, port=5000)\n",
    "\n",
    "'''\n",
    "\n",
    "with open('/Users/aditya/Documents/bootcamp_aditya_shah/homework/stage13_productization/flask_streamlit/app.py','w') as f:\n",
    "    f.write(flask_code)\n",
    "\n",
    "print(\"Flask app saved to app.py\")"
   ]
  },
  {
   "cell_type": "code",
   "execution_count": 30,
   "id": "06b63f26",
   "metadata": {},
   "outputs": [
    {
     "name": "stdout",
     "output_type": "stream",
     "text": [
      " * Serving Flask app 'app'\n",
      " * Debug mode: on\n"
     ]
    },
    {
     "name": "stderr",
     "output_type": "stream",
     "text": [
      "\u001b[31m\u001b[1mWARNING: This is a development server. Do not use it in a production deployment. Use a production WSGI server instead.\u001b[0m\n",
      " * Running on http://127.0.0.1:5000\n",
      "\u001b[33mPress CTRL+C to quit\u001b[0m\n",
      " * Restarting with stat\n",
      " * Debugger is active!\n",
      " * Debugger PIN: 710-316-010\n",
      "127.0.0.1 - - [28/Aug/2025 13:40:07] \"POST /predict HTTP/1.1\" 200 -\n",
      "127.0.0.1 - - [28/Aug/2025 13:40:07] \"\u001b[31m\u001b[1mGET /predict/7.0 HTTP/1.1\u001b[0m\" 400 -\n",
      "127.0.0.1 - - [28/Aug/2025 13:40:07] \"GET /predict/3.0/5.0 HTTP/1.1\" 200 -\n",
      "127.0.0.1 - - [28/Aug/2025 13:40:07] \"GET /plot HTTP/1.1\" 200 -\n"
     ]
    },
    {
     "name": "stdout",
     "output_type": "stream",
     "text": [
      "Flask server launched in external terminal window.\n"
     ]
    }
   ],
   "source": [
    "import os\n",
    "# Windows command to launch Flask in separate terminal window\n",
    "os.system(\"python app.py\")\n",
    "print(\"Flask server launched in external terminal window.\")"
   ]
  },
  {
   "cell_type": "markdown",
   "metadata": {},
   "source": [
    "## 7. Testing the Flask API from Notebook\n",
    "\n",
    "### TODO: Modify examples with your actual features"
   ]
  },
  {
   "cell_type": "code",
   "execution_count": null,
   "metadata": {},
   "outputs": [],
   "source": [
    "\n",
    "import requests\n",
    "from IPython.display import display, HTML\n",
    "\n",
    "# POST /predict\n",
    "response = requests.post(\n",
    "    'http://127.0.0.1:5000/predict',\n",
    "    json={'features':[0.1, 0.2]}\n",
    ")\n",
    "print(response.json())\n",
    "\n",
    "# GET /predict/<input1>\n",
    "response2 = requests.get('http://127.0.0.1:5000/predict/7.0')\n",
    "print(response2.json())\n",
    "\n",
    "# GET /predict/<input1>/<input2>\n",
    "response3 = requests.get('http://127.0.0.1:5000/predict/3.0/5.0')\n",
    "print(response3.json())\n",
    "\n",
    "# GET /plot\n",
    "response_plot = requests.get('http://127.0.0.1:5000/plot')\n",
    "display(HTML(response_plot.text))\n",
    "\n",
    "#Output Generated for the above requests:(Ran code in another ipynb as flask server needs to be running)\n",
    "\n",
    "# {'prediction': 24.639620327013382}\n",
    "# {'error': 'Model prediction failed for features=[7.0]. Error: X has 1 features, but LinearRegression is expecting 2 features as input.'}\n",
    "# {'prediction': 643.3211162805902}"
   ]
  },
  {
   "cell_type": "markdown",
   "metadata": {},
   "source": [
    "## 8. Optional Streamlit / Dash Dashboard\n",
    "\n",
    "### TODO: Add dashboard in a separate file (`app_streamlit.py` or `app_dash.py`)"
   ]
  },
  {
   "cell_type": "code",
   "execution_count": 54,
   "id": "a636f928",
   "metadata": {},
   "outputs": [
    {
     "name": "stdout",
     "output_type": "stream",
     "text": [
      "Streamlit app saved to app_streamlit.py\n"
     ]
    }
   ],
   "source": [
    "streamlit_code = '''\n",
    "import streamlit as st\n",
    "import joblib\n",
    "\n",
    "model = joblib.load('/Users/aditya/Documents/bootcamp_aditya_shah/homework/stage13_productization/model/model.pkl')\n",
    "\n",
    "st.title(\"Model Prediction Dashboard\")\n",
    "\n",
    "input_1 = st.number_input(\"Feature 1\")\n",
    "input_2 = st.number_input(\"Feature 2\")\n",
    "\n",
    "if st.button(\"Predict\"):\n",
    "    pred = model.predict([[input_1, input_2]])\n",
    "    st.write(f\"Prediction: {pred[0]}\")\n",
    "'''\n",
    "\n",
    "with open('/Users/aditya/Documents/bootcamp_aditya_shah/homework/stage13_productization/flask_streamlit/app_streamlit.py','w') as f:\n",
    "    f.write(streamlit_code)\n",
    "\n",
    "print(\"Streamlit app saved to app_streamlit.py\")\n"
   ]
  },
  {
   "cell_type": "code",
   "execution_count": 59,
   "id": "444963d0",
   "metadata": {},
   "outputs": [
    {
     "name": "stdout",
     "output_type": "stream",
     "text": [
      "\n",
      "  You can now view your Streamlit app in your browser.\n",
      "\n",
      "  Local URL: http://localhost:8501\n",
      "  Network URL: http://192.168.1.182:8501\n",
      "\n",
      "  For better performance, install the Watchdog module:\n",
      "\n",
      "  $ xcode-select --install\n",
      "  $ pip install watchdog\n",
      "            \n",
      "  Stopping...\n",
      "Streamlit dashboard launched in external terminal window.\n"
     ]
    }
   ],
   "source": [
    "\n",
    "# Launch Streamlit in external terminal (Windows example)\n",
    "os.system(\"streamlit run /Users/aditya/Documents/bootcamp_aditya_shah/homework/stage13_productization/flask_streamlit/app_streamlit.py\")\n",
    "print(\"Streamlit dashboard launched in external terminal window.\")"
   ]
  },
  {
   "cell_type": "markdown",
   "id": "7bba1499",
   "metadata": {},
   "source": [
    "## 9. Handoff Best Practices\n",
    "\n",
    "- Ensure README.md is complete and clear\n",
    "- Provide `requirements.txt` for reproducibility\n",
    "- Ensure pickled model and scripts are in correct folders\n",
    "- Verify another user can run the project end-to-end on a fresh environment"
   ]
  },
  {
   "cell_type": "markdown",
   "id": "455736a1",
   "metadata": {},
   "source": [
    "Generate requirements.txt"
   ]
  },
  {
   "cell_type": "code",
   "execution_count": 58,
   "id": "6434fad4",
   "metadata": {},
   "outputs": [],
   "source": [
    "!pip freeze > /Users/aditya/Documents/bootcamp_aditya_shah/homework/stage13_productization/requirements.txt\n"
   ]
  },
  {
   "cell_type": "code",
   "execution_count": 35,
   "id": "c4f6b578",
   "metadata": {},
   "outputs": [
    {
     "name": "stdout",
     "output_type": "stream",
     "text": [
      "Example folder structure for productization:\n",
      "project_root/\n",
      "  /data/       # raw and processed data\n",
      "  /src/        # reusable functions and scripts\n",
      "  /notebooks/  # exploration and final notebooks\n",
      "  /reports/    # stakeholder summaries, charts, PDFs\n",
      "  /model/      # pickled model objects\n",
      "  README.md    # project overview, assumptions, instructions\n",
      "Ways to productize a project:\n",
      "- Expose model via an API (Flask, FastAPI)\n",
      "- Provide an interactive dashboard (Streamlit, Dash)\n",
      "- Generate automated batch scripts\n",
      "- Create clear documentation and README for handoff\n",
      "- Package code and outputs for reproducibility\n",
      "  - Code is modularized into stage driven libraries\n",
      "  - Functions are flexible and allow for many possibilities\n",
      "  - Analysis code runs from start to finish\n",
      "    - Code throws errors when stuck at a point that it needs human intervention\n",
      "    - Code logs and/or collects all relavant information as it runs\n",
      "  - Analyses can be run with a variety of data sets and inputs from start to finish\n",
      "    - Interaction and clear documentation is given to a user for this functionality\n"
     ]
    }
   ],
   "source": [
    "print('Example folder structure for productization:')\n",
    "print('project_root/')\n",
    "print('  /data/       # raw and processed data')\n",
    "print('  /src/        # reusable functions and scripts')\n",
    "print('  /notebooks/  # exploration and final notebooks')\n",
    "print('  /reports/    # stakeholder summaries, charts, PDFs')\n",
    "print('  /model/      # pickled model objects')\n",
    "print('  README.md    # project overview, assumptions, instructions')\n",
    "\n",
    "print('Ways to productize a project:')\n",
    "print('- Expose model via an API (Flask, FastAPI)')\n",
    "print('- Provide an interactive dashboard (Streamlit, Dash)')\n",
    "print('- Generate automated batch scripts')\n",
    "print('- Create clear documentation and README for handoff')\n",
    "print('- Package code and outputs for reproducibility')\n",
    "print('  - Code is modularized into stage driven libraries')\n",
    "print('  - Functions are flexible and allow for many possibilities')\n",
    "print('  - Analysis code runs from start to finish')\n",
    "print('    - Code throws errors when stuck at a point that it needs human intervention')\n",
    "print('    - Code logs and/or collects all relavant information as it runs')\n",
    "print('  - Analyses can be run with a variety of data sets and inputs from start to finish')\n",
    "print('    - Interaction and clear documentation is given to a user for this functionality')"
   ]
  }
 ],
 "metadata": {
  "kernelspec": {
   "display_name": "fe-course",
   "language": "python",
   "name": "python3"
  },
  "language_info": {
   "codemirror_mode": {
    "name": "ipython",
    "version": 3
   },
   "file_extension": ".py",
   "mimetype": "text/x-python",
   "name": "python",
   "nbconvert_exporter": "python",
   "pygments_lexer": "ipython3",
   "version": "3.11.13"
  }
 },
 "nbformat": 4,
 "nbformat_minor": 5
}
