{
 "cells": [
  {
   "cell_type": "markdown",
   "metadata": {},
   "source": [
    "# Homework Starter — Stage 6: Data Preprocessing\n",
    "Aditya Shah 08/23/2025"
   ]
  },
  {
   "cell_type": "code",
   "execution_count": null,
   "metadata": {},
   "outputs": [],
   "source": [
    "import pandas as pd\n",
    "from src import config\n",
    "import os"
   ]
  },
  {
   "cell_type": "code",
   "execution_count": null,
   "metadata": {},
   "outputs": [
    {
     "name": "stdout",
     "output_type": "stream",
     "text": [
      "/Users/aditya/Documents/bootcamp_aditya_shah/homework/stage06_data-preprocessing\n"
     ]
    }
   ],
   "source": [
    "\n",
    "os.chdir('/Users/aditya/Documents/bootcamp_aditya_shah/homework/stage06_data-preprocessing')\n",
    "print(os.getcwd())\n"
   ]
  },
  {
   "cell_type": "markdown",
   "metadata": {},
   "source": [
    "## Load Raw Dataset"
   ]
  },
  {
   "cell_type": "markdown",
   "metadata": {},
   "source": [
    "Make sure that we are in the proper directory"
   ]
  },
  {
   "cell_type": "code",
   "execution_count": 71,
   "metadata": {},
   "outputs": [
    {
     "name": "stdout",
     "output_type": "stream",
     "text": [
      "CSV already exists at data/instructor_dirty.csv\n"
     ]
    }
   ],
   "source": [
    "# Generate demo CSV if not exists\n",
    "import os\n",
    "import pandas as pd\n",
    "\n",
    "csv_path = 'data/instructor_dirty.csv'\n",
    "os.makedirs('data', exist_ok=True)\n",
    "\n",
    "if not os.path.exists(csv_path):\n",
    "    df = pd.DataFrame({\n",
    "        'numeric_col': [10, None, 40, 55, 70],\n",
    "        'category_col': ['A', 'B', 'A', 'B', 'C'],\n",
    "        'price': ['$100', '$200', '$150', '$55', '$250'],\n",
    "        'date_str': ['2025-08-01','2025-08-02',None,'2025-08-04','2025-08-05'],\n",
    "        'category': ['Electronics','Furniture','Toys','Clothing',None]\n",
    "    })\n",
    "    df.to_csv(csv_path, index=False)\n",
    "    print(f\"Demo CSV created at {csv_path}\")\n",
    "else:\n",
    "    print(f\"CSV already exists at {csv_path}\")\n"
   ]
  },
  {
   "cell_type": "code",
   "execution_count": 72,
   "metadata": {},
   "outputs": [],
   "source": [
    "    \n",
    "df = pd.read_csv(csv_path)"
   ]
  },
  {
   "cell_type": "markdown",
   "metadata": {},
   "source": [
    "## Apply Cleaning Functions"
   ]
  },
  {
   "cell_type": "code",
   "execution_count": 73,
   "metadata": {},
   "outputs": [
    {
     "name": "stdout",
     "output_type": "stream",
     "text": [
      "   numeric_col category_col price    date_str     category\n",
      "0         10.0            A  $100  2025-08-01  Electronics\n",
      "1          NaN            B  $200  2025-08-02    Furniture\n",
      "2         40.0            A  $150         NaN         Toys\n",
      "3         55.0            B   $55  2025-08-04     Clothing\n",
      "4         70.0            C  $250  2025-08-05          NaN\n"
     ]
    }
   ],
   "source": [
    "df_cleaned = df.copy()\n",
    "print(df_cleaned)"
   ]
  },
  {
   "cell_type": "code",
   "execution_count": 74,
   "metadata": {},
   "outputs": [],
   "source": [
    "df_cleaned = df_cleaned.drop(columns=['category_col'])"
   ]
  },
  {
   "cell_type": "code",
   "execution_count": 75,
   "metadata": {},
   "outputs": [
    {
     "name": "stdout",
     "output_type": "stream",
     "text": [
      "   numeric_col price    date_str     category\n",
      "0         10.0  $100  2025-08-01  Electronics\n",
      "1          NaN  $200  2025-08-02    Furniture\n",
      "2         40.0  $150         NaN         Toys\n",
      "3         55.0   $55  2025-08-04     Clothing\n",
      "4         70.0  $250  2025-08-05          NaN\n"
     ]
    }
   ],
   "source": [
    "print(df_cleaned)"
   ]
  },
  {
   "cell_type": "code",
   "execution_count": 76,
   "metadata": {},
   "outputs": [],
   "source": [
    "df_cleaned = config.fill_missing_median(df_cleaned, ['numeric_col'])"
   ]
  },
  {
   "cell_type": "code",
   "execution_count": 77,
   "metadata": {},
   "outputs": [
    {
     "name": "stdout",
     "output_type": "stream",
     "text": [
      "   numeric_col price    date_str     category\n",
      "0         10.0  $100  2025-08-01  Electronics\n",
      "1         47.5  $200  2025-08-02    Furniture\n",
      "2         40.0  $150         NaN         Toys\n",
      "3         55.0   $55  2025-08-04     Clothing\n",
      "4         70.0  $250  2025-08-05          NaN\n"
     ]
    }
   ],
   "source": [
    "print(df_cleaned)"
   ]
  },
  {
   "cell_type": "code",
   "execution_count": 78,
   "metadata": {},
   "outputs": [
    {
     "data": {
      "text/plain": [
       "np.int64(0)"
      ]
     },
     "execution_count": 78,
     "metadata": {},
     "output_type": "execute_result"
    }
   ],
   "source": [
    "df_cleaned['numeric_col'].isna().sum()"
   ]
  },
  {
   "cell_type": "markdown",
   "metadata": {},
   "source": [
    "We can see that all the null values havee been dropped"
   ]
  },
  {
   "cell_type": "code",
   "execution_count": 79,
   "metadata": {},
   "outputs": [],
   "source": [
    "df_cleaned = config.drop_missing(df_cleaned, threshold=0.7)"
   ]
  },
  {
   "cell_type": "code",
   "execution_count": 80,
   "metadata": {},
   "outputs": [
    {
     "name": "stdout",
     "output_type": "stream",
     "text": [
      "   numeric_col price    date_str     category\n",
      "0         10.0  $100  2025-08-01  Electronics\n",
      "1         47.5  $200  2025-08-02    Furniture\n",
      "2         40.0  $150         NaN         Toys\n",
      "3         55.0   $55  2025-08-04     Clothing\n",
      "4         70.0  $250  2025-08-05          NaN\n"
     ]
    }
   ],
   "source": [
    "print(df_cleaned)"
   ]
  },
  {
   "cell_type": "code",
   "execution_count": 81,
   "metadata": {},
   "outputs": [],
   "source": [
    "df_cleaned = config.normalize_data(df_cleaned, ['numeric_col'])"
   ]
  },
  {
   "cell_type": "code",
   "execution_count": 82,
   "metadata": {},
   "outputs": [
    {
     "name": "stdout",
     "output_type": "stream",
     "text": [
      "   numeric_col price    date_str     category\n",
      "0        0.000  $100  2025-08-01  Electronics\n",
      "1        0.625  $200  2025-08-02    Furniture\n",
      "2        0.500  $150         NaN         Toys\n",
      "3        0.750   $55  2025-08-04     Clothing\n",
      "4        1.000  $250  2025-08-05          NaN\n"
     ]
    }
   ],
   "source": [
    "print(df_cleaned)"
   ]
  },
  {
   "cell_type": "code",
   "execution_count": 83,
   "metadata": {},
   "outputs": [
    {
     "name": "stdout",
     "output_type": "stream",
     "text": [
      "COMPARISON: Original vs Cleaned\n",
      "========================================\n",
      "Shape: (5, 5) -> (5, 4)\n",
      "Missing values: 3 -> 2\n",
      "\n",
      "Missing values by column:\n",
      "Original:\n",
      "numeric_col    1\n",
      "date_str       1\n",
      "category       1\n",
      "dtype: int64\n",
      "\n",
      "Cleaned:\n",
      "date_str    1\n",
      "category    1\n",
      "dtype: int64\n",
      "\n",
      "Sample statistics (before/after):\n"
     ]
    }
   ],
   "source": [
    "print(\"COMPARISON: Original vs Cleaned\")\n",
    "print(\"=\" * 40)\n",
    "print(f\"Shape: {df.shape} -> {df_cleaned.shape}\")\n",
    "print(f\"Missing values: {df.isna().sum().sum()} -> {df_cleaned.isna().sum().sum()}\")\n",
    "\n",
    "print(\"\\nMissing values by column:\")\n",
    "print(\"Original:\")\n",
    "print(df.isna().sum()[df.isna().sum() > 0])\n",
    "print(\"\\nCleaned:\")  \n",
    "print(df_cleaned.isna().sum()[df_cleaned.isna().sum() > 0])\n",
    "\n",
    "print(\"\\nSample statistics (before/after):\")\n",
    "for col in ['Price', 'Change']:\n",
    "    if col in df.columns and col in df_cleaned.columns:\n",
    "        print(f\"{col}: {df[col].mean():.2f} -> {df_cleaned[col].mean():.2f}\")"
   ]
  },
  {
   "cell_type": "markdown",
   "metadata": {},
   "source": [
    "## Save Cleaned Dataset"
   ]
  },
  {
   "cell_type": "code",
   "execution_count": 84,
   "metadata": {},
   "outputs": [],
   "source": [
    "df.to_csv('/Users/aditya/Documents/bootcamp_aditya_shah/homework/stage06_data-preprocessing/data/processed/instructor_cleaned.csv', index=False)"
   ]
  },
  {
   "cell_type": "markdown",
   "metadata": {},
   "source": [
    "Successfully saved the data set to the data processed folder. "
   ]
  }
 ],
 "metadata": {
  "kernelspec": {
   "display_name": "fe-course",
   "language": "python",
   "name": "python3"
  },
  "language_info": {
   "codemirror_mode": {
    "name": "ipython",
    "version": 3
   },
   "file_extension": ".py",
   "mimetype": "text/x-python",
   "name": "python",
   "nbconvert_exporter": "python",
   "pygments_lexer": "ipython3",
   "version": "3.11.13"
  }
 },
 "nbformat": 4,
 "nbformat_minor": 2
}
