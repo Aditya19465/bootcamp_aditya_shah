{
 "cells": [
  {
   "cell_type": "markdown",
   "metadata": {},
   "source": [
    "# Homework Starter — Stage 10b: Time Series & Classification\n",
    "Fill in the TODOs. Use your own dataset or adapt the synthetic generator below."
   ]
  },
  {
   "cell_type": "code",
   "execution_count": 5,
   "metadata": {},
   "outputs": [],
   "source": [
    "# Imports\n",
    "import numpy as np, pandas as pd\n",
    "import matplotlib.pyplot as plt\n",
    "import seaborn as sns\n",
    "from sklearn.pipeline import Pipeline, make_pipeline\n",
    "from sklearn.preprocessing import StandardScaler\n",
    "from sklearn.linear_model import LinearRegression, LogisticRegression\n",
    "from sklearn.tree import DecisionTreeClassifier\n",
    "from sklearn.metrics import mean_absolute_error, mean_squared_error, classification_report, confusion_matrix\n",
    "from sklearn.model_selection import train_test_split, TimeSeriesSplit\n",
    "np.random.seed(7); sns.set(); plt.rcParams['figure.figsize']=(9,4)"
   ]
  },
  {
   "cell_type": "markdown",
   "metadata": {},
   "source": [
    "## Option A: Use Your Own Data (Recommended)\n",
    "Load your data here (ensure a DateTime index for time series)."
   ]
  },
  {
   "cell_type": "code",
   "execution_count": null,
   "metadata": {},
   "outputs": [],
   "source": [
    "# TODO: load your data\n",
    "df = pd.read_csv('/Users/aditya/Documents/bootcamp_aditya_shah/homework/stage10b_time_series/data/synthetic_stock_data.csv', parse_dates=['date'], index_col='date')"
   ]
  },
  {
   "cell_type": "markdown",
   "metadata": {},
   "source": [
    "## Feature Engineering"
   ]
  },
  {
   "cell_type": "code",
   "execution_count": 15,
   "metadata": {},
   "outputs": [
    {
     "data": {
      "text/html": [
       "<div>\n",
       "<style scoped>\n",
       "    .dataframe tbody tr th:only-of-type {\n",
       "        vertical-align: middle;\n",
       "    }\n",
       "\n",
       "    .dataframe tbody tr th {\n",
       "        vertical-align: top;\n",
       "    }\n",
       "\n",
       "    .dataframe thead th {\n",
       "        text-align: right;\n",
       "    }\n",
       "</style>\n",
       "<table border=\"1\" class=\"dataframe\">\n",
       "  <thead>\n",
       "    <tr style=\"text-align: right;\">\n",
       "      <th></th>\n",
       "      <th>price</th>\n",
       "      <th>ret</th>\n",
       "      <th>log_ret</th>\n",
       "      <th>lag_1</th>\n",
       "      <th>roll_mean_5</th>\n",
       "      <th>roll_vol_20</th>\n",
       "      <th>momentum_10</th>\n",
       "      <th>ewm_10</th>\n",
       "      <th>y_next_ret</th>\n",
       "      <th>y_up</th>\n",
       "    </tr>\n",
       "    <tr>\n",
       "      <th>date</th>\n",
       "      <th></th>\n",
       "      <th></th>\n",
       "      <th></th>\n",
       "      <th></th>\n",
       "      <th></th>\n",
       "      <th></th>\n",
       "      <th></th>\n",
       "      <th></th>\n",
       "      <th></th>\n",
       "      <th></th>\n",
       "    </tr>\n",
       "  </thead>\n",
       "  <tbody>\n",
       "    <tr>\n",
       "      <th>2020-01-29</th>\n",
       "      <td>98.678487</td>\n",
       "      <td>0.015069</td>\n",
       "      <td>0.014956</td>\n",
       "      <td>-0.013728</td>\n",
       "      <td>-0.006822</td>\n",
       "      <td>0.009467</td>\n",
       "      <td>-0.075522</td>\n",
       "      <td>-0.006577</td>\n",
       "      <td>-0.001956</td>\n",
       "      <td>0</td>\n",
       "    </tr>\n",
       "    <tr>\n",
       "      <th>2020-01-30</th>\n",
       "      <td>98.485487</td>\n",
       "      <td>-0.001956</td>\n",
       "      <td>-0.001958</td>\n",
       "      <td>0.015069</td>\n",
       "      <td>-0.002747</td>\n",
       "      <td>0.010177</td>\n",
       "      <td>-0.056129</td>\n",
       "      <td>-0.002641</td>\n",
       "      <td>0.000976</td>\n",
       "      <td>1</td>\n",
       "    </tr>\n",
       "    <tr>\n",
       "      <th>2020-01-31</th>\n",
       "      <td>98.581585</td>\n",
       "      <td>0.000976</td>\n",
       "      <td>0.000975</td>\n",
       "      <td>-0.001956</td>\n",
       "      <td>-0.001182</td>\n",
       "      <td>0.010180</td>\n",
       "      <td>-0.053737</td>\n",
       "      <td>-0.002517</td>\n",
       "      <td>-0.013851</td>\n",
       "      <td>0</td>\n",
       "    </tr>\n",
       "    <tr>\n",
       "      <th>2020-02-03</th>\n",
       "      <td>97.216164</td>\n",
       "      <td>-0.013851</td>\n",
       "      <td>-0.013947</td>\n",
       "      <td>0.000976</td>\n",
       "      <td>-0.001676</td>\n",
       "      <td>0.010030</td>\n",
       "      <td>-0.055484</td>\n",
       "      <td>-0.001882</td>\n",
       "      <td>-0.005131</td>\n",
       "      <td>0</td>\n",
       "    </tr>\n",
       "    <tr>\n",
       "      <th>2020-02-04</th>\n",
       "      <td>96.717385</td>\n",
       "      <td>-0.005131</td>\n",
       "      <td>-0.005144</td>\n",
       "      <td>-0.013851</td>\n",
       "      <td>-0.002698</td>\n",
       "      <td>0.009578</td>\n",
       "      <td>-0.050678</td>\n",
       "      <td>-0.004058</td>\n",
       "      <td>0.001410</td>\n",
       "      <td>1</td>\n",
       "    </tr>\n",
       "  </tbody>\n",
       "</table>\n",
       "</div>"
      ],
      "text/plain": [
       "                price       ret   log_ret     lag_1  roll_mean_5  roll_vol_20  \\\n",
       "date                                                                            \n",
       "2020-01-29  98.678487  0.015069  0.014956 -0.013728    -0.006822     0.009467   \n",
       "2020-01-30  98.485487 -0.001956 -0.001958  0.015069    -0.002747     0.010177   \n",
       "2020-01-31  98.581585  0.000976  0.000975 -0.001956    -0.001182     0.010180   \n",
       "2020-02-03  97.216164 -0.013851 -0.013947  0.000976    -0.001676     0.010030   \n",
       "2020-02-04  96.717385 -0.005131 -0.005144 -0.013851    -0.002698     0.009578   \n",
       "\n",
       "            momentum_10    ewm_10  y_next_ret  y_up  \n",
       "date                                                 \n",
       "2020-01-29    -0.075522 -0.006577   -0.001956     0  \n",
       "2020-01-30    -0.056129 -0.002641    0.000976     1  \n",
       "2020-01-31    -0.053737 -0.002517   -0.013851     0  \n",
       "2020-02-03    -0.055484 -0.001882   -0.005131     0  \n",
       "2020-02-04    -0.050678 -0.004058    0.001410     1  "
      ]
     },
     "execution_count": 15,
     "metadata": {},
     "output_type": "execute_result"
    }
   ],
   "source": [
    "# TODO: create at least two features\n",
    "df['lag_1'] = df['ret'].shift(1)\n",
    "df['roll_mean_5'] = df['ret'].rolling(5).mean().shift(1)\n",
    "# Add your own:\n",
    "# Rolling volatility (20-day lookback, shifted)\n",
    "df['roll_vol_20'] = df['ret'].rolling(20).std().shift(1)\n",
    "\n",
    "# Momentum: cumulative return over the past 10 days\n",
    "df['momentum_10'] = df['ret'].rolling(10).sum().shift(1)\n",
    "\n",
    "# Exponentially weighted moving average (trend indicator)\n",
    "df['ewm_10'] = df['ret'].ewm(span=10, adjust=False).mean().shift(1)\n",
    "\n",
    "\n",
    "df['y_next_ret'] = df['ret'].shift(-1)\n",
    "df['y_up'] = (df['y_next_ret']>0).astype(int)\n",
    "df_feat = df.dropna().copy()\n",
    "df_feat.head()"
   ]
  },
  {
   "cell_type": "markdown",
   "metadata": {},
   "source": [
    "## Split"
   ]
  },
  {
   "cell_type": "code",
   "execution_count": 16,
   "metadata": {},
   "outputs": [],
   "source": [
    "# Time-aware split\n",
    "cut=int(len(df_feat)*0.8)\n",
    "train, test = df_feat.iloc[:cut], df_feat.iloc[cut:]\n",
    "features=['lag_1','roll_mean_5','roll_vol_20','momentum_10','ewm_10']  # extend as you add features\n",
    "X_tr, X_te = train[features], test[features]\n",
    "y_tr_reg, y_te_reg = train['y_next_ret'], test['y_next_ret']\n",
    "y_tr_clf, y_te_clf = train['y_up'], test['y_up']"
   ]
  },
  {
   "cell_type": "markdown",
   "metadata": {},
   "source": [
    "## Pipeline + Model (Choose one track below)"
   ]
  },
  {
   "cell_type": "code",
   "execution_count": 18,
   "metadata": {},
   "outputs": [
    {
     "name": "stdout",
     "output_type": "stream",
     "text": [
      "              precision    recall  f1-score   support\n",
      "\n",
      "           0       0.50      0.39      0.44        62\n",
      "           1       0.44      0.56      0.49        54\n",
      "\n",
      "    accuracy                           0.47       116\n",
      "   macro avg       0.47      0.47      0.46       116\n",
      "weighted avg       0.47      0.47      0.46       116\n",
      "\n"
     ]
    },
    {
     "data": {
      "image/png": "[encoded data removed]",
      "text/plain": [
       "<Figure size 900x400 with 2 Axes>"
      ]
     },
     "metadata": {},
     "output_type": "display_data"
    }
   ],
   "source": [
    "# Track 2: Classification (up/down)\n",
    "clf = Pipeline([('scaler', StandardScaler()), ('logit', LogisticRegression(max_iter=1000))])\n",
    "clf.fit(X_tr, y_tr_clf)\n",
    "predc = clf.predict(X_te)\n",
    "print(classification_report(y_te_clf, predc))\n",
    "cm = confusion_matrix(y_te_clf, predc)\n",
    "sns.heatmap(cm, annot=True, fmt='d'); plt.title('Confusion Matrix'); plt.show()"
   ]
  },
  {
   "cell_type": "markdown",
   "metadata": {},
   "source": [
    "## Interpretation\n",
    "\n",
    "- **What worked:**  \n",
    "  - Pipeline with scaling + logistic regression runs fine.  \n",
    "  - Features (lags, rolling mean, volatility, momentum, EWM) capture short-term patterns.  \n",
    "  - Classification target (`y_up`) is well-defined.  \n",
    "\n",
    "- **Where assumptions may fail:**  \n",
    "  - Logistic regression assumes linear separability; markets are noisy.  \n",
    "  - Returns are non-stationary → fixed windows may not adapt.  \n",
    "  - Class imbalance possible (model favors \"up\").  \n",
    "  - Ignores temporal dependence (treats rows as independent).  \n",
    "\n",
    "- **How to extend:**  \n",
    "  - Add longer-window features & technical indicators (RSI, MACD, Bollinger Bands).  \n",
    "  - Include multiple lags (2, 5, 10).  \n",
    "  - Try tree-based models (Random Forest, XGBoost) for nonlinear patterns.  \n",
    "  - Use `TimeSeriesSplit` for CV to avoid look-ahead bias.  \n"
   ]
  },
  {
   "cell_type": "markdown",
   "metadata": {},
   "source": [
    "### Save Notebook\n",
    "Remember to save as `notebooks/modeling_<team>.ipynb`."
   ]
  }
 ],
 "metadata": {
  "kernelspec": {
   "display_name": "fe-course",
   "language": "python",
   "name": "python3"
  },
  "language_info": {
   "codemirror_mode": {
    "name": "ipython",
    "version": 3
   },
   "file_extension": ".py",
   "mimetype": "text/x-python",
   "name": "python",
   "nbconvert_exporter": "python",
   "pygments_lexer": "ipython3",
   "version": "3.11.13"
  }
 },
 "nbformat": 4,
 "nbformat_minor": 5
}
