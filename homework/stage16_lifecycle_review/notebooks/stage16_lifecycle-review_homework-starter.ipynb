{
 "cells": [
  {
   "cell_type": "markdown",
   "metadata": {},
   "source": [
    "# Stage 16 Homework Starter\n",
    "\n",
    "This notebook is a starting point for polishing your final repo and lifecycle mapping."
   ]
  },
  {
   "cell_type": "markdown",
   "metadata": {},
   "source": [
    "## Checklist Template\n",
    " - Add checklist elements, as in the examples below, to make sure you cover everything you would like to accomplish\n",
    "- Update this checklist as you finalize your repo."
   ]
  },
  {
   "cell_type": "code",
   "execution_count": null,
   "metadata": {},
   "outputs": [],
   "source": [
    "checklist = {\n",
    "    \"repo_clean\": True,\n",
    "    \"repo_complete\": True,\n",
    "    \"readme_complete\": True,\n",
    "    \"lifecycle_map\": True,\n",
    "    \"summary_doc\": True,\n",
    "    \"framework_guide_table\": True\n",
    "}\n",
    "checklist"
   ]
  },
  {
   "cell_type": "markdown",
   "metadata": {},
   "source": [
    "## Reflection Prompts\n",
    "\n",
    "What stage of the lifecycle was hardest for you, and why?\n",
    "The part of performing bootstrapping and understanding the implications of independence, linearity, homoscedasticity, and normality for hypothesis testing. It was challenging because I had to not only implement the statistical methods correctly but also interpret their assumptions and ensure that my data met these conditions. This required iterative checking, debugging, and revisiting the theory behind linear regression and inferential statistics.\n",
    "\n",
    "Which part of your repo is most reusable in a future project?\n",
    "All the helper functions that provide diagnostics for general use cases. Functions for data cleaning, preprocessing, and linear regression analysis can be adapted for almost any tabular dataset, saving time in future projects. The modular structure ensures that these can be imported directly without rewriting code.\n",
    "\n",
    "If a teammate had to pick up your repo tomorrow, what would help them most?\n",
    "Having a structured repo with clearly separated modules for cleaning, preprocessing, analysis, and deployment. The documentation and README explaining how to run scripts, the expected inputs/outputs, and linear regression workflow would significantly reduce onboarding time. Additionally, including example notebooks demonstrating the usage of helper functions would be highly beneficial."
   ]
  }
 ],
 "metadata": {
  "kernelspec": {
   "display_name": "Python 3",
   "language": "python",
   "name": "python3"
  }
 },
 "nbformat": 4,
 "nbformat_minor": 2
}
