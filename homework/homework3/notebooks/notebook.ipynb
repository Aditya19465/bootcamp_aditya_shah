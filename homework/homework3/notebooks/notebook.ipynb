{
 "cells": [
  {
   "cell_type": "code",
   "execution_count": 21,
   "id": "08228165",
   "metadata": {},
   "outputs": [],
   "source": [
    "\n",
    "\n",
    "import numpy as np\n",
    "import pandas as pd\n",
    "import matplotlib.pyplot as plt\n",
    "import os\n",
    "\n"
   ]
  },
  {
   "cell_type": "code",
   "execution_count": 22,
   "id": "845a54ae",
   "metadata": {},
   "outputs": [
    {
     "name": "stdout",
     "output_type": "stream",
     "text": [
      "Original array: [ 1  2  3  4  5  6  7  8  9 10]\n",
      "Squared: [  1   4   9  16  25  36  49  64  81 100]\n",
      "Square root: [1.         1.41421356 1.73205081 2.         2.23606798 2.44948974\n",
      " 2.64575131 2.82842712 3.         3.16227766]\n"
     ]
    }
   ],
   "source": [
    "\n",
    "arr = np.arange(1, 11)   # array from 1 to 10\n",
    "print(\"Original array:\", arr)\n",
    "\n",
    "# Elementwise operations\n",
    "print(\"Squared:\", arr ** 2)\n",
    "print(\"Square root:\", np.sqrt(arr))\n"
   ]
  },
  {
   "cell_type": "code",
   "execution_count": 23,
   "id": "2f17c3b7",
   "metadata": {},
   "outputs": [
    {
     "name": "stdout",
     "output_type": "stream",
     "text": [
      "Loop time: 4.00543212890625e-05\n",
      "Vectorized time: 2.8848648071289062e-05\n"
     ]
    }
   ],
   "source": [
    "\n",
    "# Compare loop vs vectorized execution\n",
    "import time\n",
    "\n",
    "# Loop approach\n",
    "start = time.time()\n",
    "squared_loop = [x**2 for x in arr]\n",
    "end = time.time()\n",
    "print(\"Loop time:\", end - start)\n",
    "\n",
    "# Vectorized approach\n",
    "start = time.time()\n",
    "squared_vec = arr ** 2\n",
    "end = time.time()\n",
    "print(\"Vectorized time:\", end - start)\n"
   ]
  },
  {
   "cell_type": "code",
   "execution_count": null,
   "id": "6fda0f82",
   "metadata": {},
   "outputs": [
    {
     "name": "stdout",
     "output_type": "stream",
     "text": [
      "\n",
      "--- Dataset Info ---\n",
      "<class 'pandas.core.frame.DataFrame'>\n",
      "RangeIndex: 10 entries, 0 to 9\n",
      "Data columns (total 3 columns):\n",
      " #   Column    Non-Null Count  Dtype \n",
      "---  ------    --------------  ----- \n",
      " 0   category  10 non-null     object\n",
      " 1   value     10 non-null     int64 \n",
      " 2   date      10 non-null     object\n",
      "dtypes: int64(1), object(2)\n",
      "memory usage: 368.0+ bytes\n",
      "None\n",
      "\n",
      "--- Head ---\n",
      "  category  value        date\n",
      "0        A     10  2025-08-01\n",
      "1        B     15  2025-08-02\n",
      "2        A     12  2025-08-03\n",
      "3        B     18  2025-08-04\n",
      "4        C     25  2025-08-05\n"
     ]
    }
   ],
   "source": [
    "\n",
    "data_path = \"/Users/aditya/Documents/bootcamp_aditya_shah/homework/homework3/data/starter_data.csv\"\n",
    "df = pd.read_csv(data_path)\n",
    "\n",
    "print(\"\\n--- Dataset Info ---\")\n",
    "print(df.info())\n",
    "print(\"\\n--- Head ---\")\n",
    "print(df.head())\n",
    "\n",
    "\n"
   ]
  },
  {
   "cell_type": "code",
   "execution_count": null,
   "id": "44af8b93",
   "metadata": {},
   "outputs": [
    {
     "name": "stdout",
     "output_type": "stream",
     "text": [
      "\n",
      "--- Summary Statistics ---\n",
      "           value\n",
      "count  10.000000\n",
      "mean   17.600000\n",
      "std     7.381659\n",
      "min    10.000000\n",
      "25%    12.250000\n",
      "50%    14.500000\n",
      "75%    23.250000\n",
      "max    30.000000\n",
      "\n",
      "No 'Category' column found for groupby example.\n"
     ]
    }
   ],
   "source": [
    "\n",
    "print(\"\\n--- Summary Statistics ---\")\n",
    "summary = df.describe()\n",
    "print(summary)\n",
    "\n",
    "# GroupBy example (assuming a 'Category' column exists)\n",
    "if \"Category\" in df.columns:\n",
    "    group_summary = df.groupby(\"Category\").mean(numeric_only=True)\n",
    "    print(\"\\n--- GroupBy Summary ---\")\n",
    "    print(group_summary)\n",
    "else:\n",
    "    group_summary = pd.DataFrame()\n",
    "    print(\"\\nNo 'Category' column found for groupby example.\")\n",
    "\n"
   ]
  },
  {
   "cell_type": "code",
   "execution_count": 26,
   "id": "358c37da",
   "metadata": {},
   "outputs": [],
   "source": [
    "\n",
    "os.makedirs(\"/Users/aditya/Documents/bootcamp_aditya_shah/homework/homework3/data/processed\", exist_ok=True)\n",
    "summary.to_csv(\"/Users/aditya/Documents/bootcamp_aditya_shah/homework/homework3/data/processed/summary.csv\")\n",
    "\n",
    "if not group_summary.empty:\n",
    "    group_summary.to_csv(\"/Users/aditya/Documents/bootcamp_aditya_shah/homework/homework3/data/processed/group_summary.csv\")\n",
    "\n",
    "# Bonus: simple plot\n",
    "df.hist(figsize=(8,6))\n",
    "plt.tight_layout()\n",
    "plt.savefig(\"/Users/aditya/Documents/bootcamp_aditya_shah/homework/homework3/data/processed/histogram.png\")\n",
    "plt.close()\n"
   ]
  },
  {
   "cell_type": "code",
   "execution_count": 28,
   "id": "19a96ad3",
   "metadata": {},
   "outputs": [],
   "source": [
    "import os, sys\n",
    "# Move up one level so Python sees homework3/src\n",
    "sys.path.append(os.path.abspath(\"..\"))\n"
   ]
  },
  {
   "cell_type": "code",
   "execution_count": 29,
   "id": "376e4d3d",
   "metadata": {},
   "outputs": [],
   "source": [
    "from src.config import get_summary_stats"
   ]
  },
  {
   "cell_type": "code",
   "execution_count": 30,
   "id": "0240daa5",
   "metadata": {},
   "outputs": [
    {
     "name": "stdout",
     "output_type": "stream",
     "text": [
      "\n",
      "--- Function Output (Summary) ---\n",
      "           value\n",
      "count  10.000000\n",
      "mean   17.600000\n",
      "std     7.381659\n",
      "min    10.000000\n",
      "25%    12.250000\n"
     ]
    }
   ],
   "source": [
    "\n",
    "# Example usage\n",
    "stats, gstats = get_summary_stats(df)\n",
    "print(\"\\n--- Function Output (Summary) ---\")\n",
    "print(stats.head())\n",
    "\n",
    "if gstats is not None:\n",
    "    print(\"\\n--- Function Output (Group Stats) ---\")\n",
    "    print(gstats.head())\n"
   ]
  }
 ],
 "metadata": {
  "kernelspec": {
   "display_name": "bootcamp_env",
   "language": "python",
   "name": "python3"
  },
  "language_info": {
   "codemirror_mode": {
    "name": "ipython",
    "version": 3
   },
   "file_extension": ".py",
   "mimetype": "text/x-python",
   "name": "python",
   "nbconvert_exporter": "python",
   "pygments_lexer": "ipython3",
   "version": "3.10.18"
  }
 },
 "nbformat": 4,
 "nbformat_minor": 5
}
