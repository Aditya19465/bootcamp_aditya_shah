{
 "cells": [
  {
   "cell_type": "markdown",
   "metadata": {},
   "source": [
    "# Homework Starter — Stage 15: Orchestration & System Design\n",
    "Complete the sections below. Keep your answers concise and focused on orchestration readiness."
   ]
  },
  {
   "cell_type": "markdown",
   "metadata": {},
   "source": [
    "## 1) Project Task Decomposition\n",
    "List 4–8 tasks. Add more rows as needed."
   ]
  },
  {
   "cell_type": "code",
   "execution_count": 1,
   "metadata": {},
   "outputs": [
    {
     "data": {
      "text/html": [
       "<div>\n",
       "<style scoped>\n",
       "    .dataframe tbody tr th:only-of-type {\n",
       "        vertical-align: middle;\n",
       "    }\n",
       "\n",
       "    .dataframe tbody tr th {\n",
       "        vertical-align: top;\n",
       "    }\n",
       "\n",
       "    .dataframe thead th {\n",
       "        text-align: right;\n",
       "    }\n",
       "</style>\n",
       "<table border=\"1\" class=\"dataframe\">\n",
       "  <thead>\n",
       "    <tr style=\"text-align: right;\">\n",
       "      <th></th>\n",
       "      <th>task</th>\n",
       "      <th>inputs</th>\n",
       "      <th>outputs</th>\n",
       "      <th>idempotent</th>\n",
       "    </tr>\n",
       "  </thead>\n",
       "  <tbody>\n",
       "    <tr>\n",
       "      <th>0</th>\n",
       "      <td>ingest</td>\n",
       "      <td>/data/raw.ext</td>\n",
       "      <td>prices_raw.json</td>\n",
       "      <td>True</td>\n",
       "    </tr>\n",
       "    <tr>\n",
       "      <th>1</th>\n",
       "      <td>clean</td>\n",
       "      <td>prices_raw.json</td>\n",
       "      <td>prices_clean.json</td>\n",
       "      <td>True</td>\n",
       "    </tr>\n",
       "    <tr>\n",
       "      <th>2</th>\n",
       "      <td>train_or_score</td>\n",
       "      <td>prices_clean.json</td>\n",
       "      <td>model.json</td>\n",
       "      <td>True</td>\n",
       "    </tr>\n",
       "    <tr>\n",
       "      <th>3</th>\n",
       "      <td>report</td>\n",
       "      <td>model.json</td>\n",
       "      <td>report.txt</td>\n",
       "      <td>True</td>\n",
       "    </tr>\n",
       "    <tr>\n",
       "      <th>4</th>\n",
       "      <td>deploy</td>\n",
       "      <td>report.txt</td>\n",
       "      <td>deployed_model.json</td>\n",
       "      <td>True</td>\n",
       "    </tr>\n",
       "  </tbody>\n",
       "</table>\n",
       "</div>"
      ],
      "text/plain": [
       "             task             inputs              outputs  idempotent\n",
       "0          ingest      /data/raw.ext      prices_raw.json        True\n",
       "1           clean    prices_raw.json    prices_clean.json        True\n",
       "2  train_or_score  prices_clean.json           model.json        True\n",
       "3          report         model.json           report.txt        True\n",
       "4          deploy         report.txt  deployed_model.json        True"
      ]
     },
     "execution_count": 1,
     "metadata": {},
     "output_type": "execute_result"
    }
   ],
   "source": [
    "from pathlib import Path\n",
    "import pandas as pd\n",
    "tasks = pd.DataFrame({\n",
    "    'task': ['ingest', 'clean', 'train_or_score', 'report', 'deploy'],\n",
    "    'inputs': ['/data/raw.ext', 'prices_raw.json', 'prices_clean.json', 'model.json', 'report.txt'],\n",
    "    'outputs': ['prices_raw.json', 'prices_clean.json', 'model.json', 'report.txt', 'deployed_model.json'],\n",
    "    'idempotent': [True, True, True, True, True]\n",
    "})\n",
    "tasks"
   ]
  },
  {
   "cell_type": "markdown",
   "metadata": {},
   "source": [
    "## 2) Dependencies (DAG)\n",
    "Describe dependencies and paste a small diagram if you have one."
   ]
  },
  {
   "cell_type": "code",
   "execution_count": 2,
   "metadata": {},
   "outputs": [
    {
     "data": {
      "text/plain": [
       "{'ingest': [],\n",
       " 'clean': ['ingest'],\n",
       " 'train_or_score': ['clean'],\n",
       " 'report': ['train_or_score'],\n",
       " 'deploy': ['report']}"
      ]
     },
     "execution_count": 2,
     "metadata": {},
     "output_type": "execute_result"
    }
   ],
   "source": [
    "dag = {\n",
    "    'ingest': [],\n",
    "    'clean': ['ingest'],\n",
    "    'train_or_score': ['clean'],\n",
    "    'report': ['train_or_score'],\n",
    "    'deploy': ['report']\n",
    "}\n",
    "dag"
   ]
  },
  {
   "cell_type": "markdown",
   "metadata": {},
   "source": [
    "## 3) Logging & Checkpoints Plan\n",
    "Specify what you will log and where you will checkpoint for each task."
   ]
  },
  {
   "cell_type": "code",
   "execution_count": 3,
   "metadata": {},
   "outputs": [
    {
     "data": {
      "text/html": [
       "<div>\n",
       "<style scoped>\n",
       "    .dataframe tbody tr th:only-of-type {\n",
       "        vertical-align: middle;\n",
       "    }\n",
       "\n",
       "    .dataframe tbody tr th {\n",
       "        vertical-align: top;\n",
       "    }\n",
       "\n",
       "    .dataframe thead th {\n",
       "        text-align: right;\n",
       "    }\n",
       "</style>\n",
       "<table border=\"1\" class=\"dataframe\">\n",
       "  <thead>\n",
       "    <tr style=\"text-align: right;\">\n",
       "      <th></th>\n",
       "      <th>task</th>\n",
       "      <th>log_messages</th>\n",
       "      <th>checkpoint_artifact</th>\n",
       "    </tr>\n",
       "  </thead>\n",
       "  <tbody>\n",
       "    <tr>\n",
       "      <th>0</th>\n",
       "      <td>ingest</td>\n",
       "      <td>start/end, rows, source URI</td>\n",
       "      <td>prices_raw.json</td>\n",
       "    </tr>\n",
       "    <tr>\n",
       "      <th>1</th>\n",
       "      <td>clean</td>\n",
       "      <td>start/end, rows in/out</td>\n",
       "      <td>prices_clean.json</td>\n",
       "    </tr>\n",
       "    <tr>\n",
       "      <th>2</th>\n",
       "      <td>train_or_score</td>\n",
       "      <td>params, metrics</td>\n",
       "      <td>model.json</td>\n",
       "    </tr>\n",
       "    <tr>\n",
       "      <th>3</th>\n",
       "      <td>report</td>\n",
       "      <td>artifact path</td>\n",
       "      <td>report.txt</td>\n",
       "    </tr>\n",
       "    <tr>\n",
       "      <th>4</th>\n",
       "      <td>deploy</td>\n",
       "      <td>deployment path</td>\n",
       "      <td>deployed_model.json</td>\n",
       "    </tr>\n",
       "  </tbody>\n",
       "</table>\n",
       "</div>"
      ],
      "text/plain": [
       "             task                 log_messages  checkpoint_artifact\n",
       "0          ingest  start/end, rows, source URI      prices_raw.json\n",
       "1           clean       start/end, rows in/out    prices_clean.json\n",
       "2  train_or_score              params, metrics           model.json\n",
       "3          report                artifact path           report.txt\n",
       "4          deploy              deployment path  deployed_model.json"
      ]
     },
     "execution_count": 3,
     "metadata": {},
     "output_type": "execute_result"
    }
   ],
   "source": [
    "logging_plan = pd.DataFrame({\n",
    "    'task': ['ingest', 'clean', 'train_or_score', 'report', 'deploy'],\n",
    "    'log_messages': [\n",
    "        'start/end, rows, source URI',\n",
    "        'start/end, rows in/out',\n",
    "        'params, metrics',\n",
    "        'artifact path',\n",
    "        'deployment path'\n",
    "    ],\n",
    "    'checkpoint_artifact': [\n",
    "        'prices_raw.json',\n",
    "        'prices_clean.json',\n",
    "        'model.json',\n",
    "        'report.txt',\n",
    "        'deployed_model.json'\n",
    "    ]\n",
    "})\n",
    "logging_plan"
   ]
  },
  {
   "cell_type": "markdown",
   "metadata": {},
   "source": [
    "## 4) Right-Sizing Automation\n",
    "Which parts will you automate now? Which stay manual? Why?"
   ]
  },
  {
   "cell_type": "markdown",
   "metadata": {},
   "source": [
    "Automatable:\n",
    "Tasks that are repetitive, deterministic, and well-defined, such as ingest, clean, train_or_score, report, and deploy. These steps can log progress, save checkpoints, and generate outputs automatically.\n",
    "\n",
    "Manual:\n",
    "Tasks requiring human oversight or decision-making, such as validating data sources, reviewing model metrics, approving reports, and authorizing production deployment. These ensure quality and correctness where automation alone may not suffice."
   ]
  },
  {
   "cell_type": "markdown",
   "metadata": {},
   "source": [
    "## 5) (Stretch) Refactor One Task into a Function + CLI\n",
    "Use the templates below."
   ]
  },
  {
   "cell_type": "code",
   "execution_count": null,
   "id": "51c16af3",
   "metadata": {},
   "outputs": [],
   "source": [
    "import json, os\n",
    "os.makedirs('/Users/aditya/Documents/bootcamp_aditya_shah/homework/stage15_orchestration_and_system_design/data/raw', exist_ok=True)\n",
    "\n",
    "dummy_data = [\n",
    "    {\"date\": \"2025-01-01\", \"price\": 100},\n",
    "    {\"date\": \"2025-01-02\", \"price\": 102},\n",
    "]\n",
    "\n",
    "with open('/Users/aditya/Documents/bootcamp_aditya_shah/homework/stage15_orchestration_and_system_design/data/raw/prices_raw.json', 'w') as f:\n",
    "    json.dump(dummy_data, f, indent=2)\n"
   ]
  },
  {
   "cell_type": "code",
   "execution_count": null,
   "metadata": {},
   "outputs": [
    {
     "name": "stdout",
     "output_type": "stream",
     "text": [
      "INFO:root:[clean_task] start\n",
      "INFO:root:[clean_task] wrote /Users/aditya/Documents/bootcamp_aditya_shah/homework/stage15_orchestration_and_system_design/data/prices_clean.json, rows in/out: 2/2\n"
     ]
    }
   ],
   "source": [
    "import argparse, json, logging, sys\n",
    "from datetime import datetime\n",
    "from pathlib import Path\n",
    "import pandas as pd\n",
    "\n",
    "def clean_task(input_path: str, output_path: str) -> None:\n",
    "    \"\"\"Clean raw data: read → transform → write JSON.\"\"\"\n",
    "    logging.info('[clean_task] start')\n",
    "    \n",
    "    # Read raw data\n",
    "    df = pd.read_json(input_path)\n",
    "    \n",
    "    # Simple cleaning logic example: drop duplicates, fill missing values\n",
    "    df_clean = df.drop_duplicates().fillna(0)\n",
    "    \n",
    "    # Save cleaned data\n",
    "    Path(output_path).parent.mkdir(parents=True, exist_ok=True)\n",
    "    df_clean.to_json(output_path, orient='records', indent=2)\n",
    "    \n",
    "    logging.info('[clean_task] wrote %s, rows in/out: %d/%d', \n",
    "                 output_path, len(df), len(df_clean))\n",
    "\n",
    "def main(argv=None):\n",
    "    parser = argparse.ArgumentParser(description='Clean task wrapper')\n",
    "    parser.add_argument('--input', required=True)\n",
    "    parser.add_argument('--output', required=True)\n",
    "    args = parser.parse_args(argv)\n",
    "    \n",
    "    logging.basicConfig(level=logging.INFO, handlers=[logging.StreamHandler(sys.stdout)])\n",
    "    clean_task(args.input, args.output)\n",
    "\n",
    "if __name__ == \"__main__\":\n",
    "    # Example simulated CLI\n",
    "    main(['--input', '/Users/aditya/Documents/bootcamp_aditya_shah/homework/stage15_orchestration_and_system_design/data/raw/prices_raw.json', '--output', '/Users/aditya/Documents/bootcamp_aditya_shah/homework/stage15_orchestration_and_system_design/data/processed/prices_clean.json'])\n"
   ]
  },
  {
   "cell_type": "markdown",
   "metadata": {},
   "source": [
    "### Optional: Simple Retry Wrapper (fill in)\n",
    "Add a small retry with linear backoff to harden a task."
   ]
  },
  {
   "cell_type": "code",
   "execution_count": null,
   "metadata": {},
   "outputs": [],
   "source": [
    "import time\n",
    "import logging\n",
    "\n",
    "def retry(n_tries=3, delay=0.2):\n",
    "    \"\"\"Retry a function up to n_tries with linear backoff (delay increases each retry).\"\"\"\n",
    "    def decorator(fn):\n",
    "        def wrapped(*args, **kwargs):\n",
    "            last_exception = None\n",
    "            for i in range(1, n_tries + 1):\n",
    "                try:\n",
    "                    logging.info('[retry] attempt %d for %s', i, fn.__name__)\n",
    "                    return fn(*args, **kwargs)\n",
    "                except Exception as e:\n",
    "                    logging.warning('[retry] failed attempt %d: %s', i, e)\n",
    "                    last_exception = e\n",
    "                    time.sleep(delay * i)  # linear backoff\n",
    "            logging.error('[retry] all %d attempts failed for %s', n_tries, fn.__name__)\n",
    "            raise last_exception\n",
    "        return wrapped\n",
    "    return decorator\n"
   ]
  }
 ],
 "metadata": {
  "kernelspec": {
   "display_name": "fe-course",
   "language": "python",
   "name": "python3"
  },
  "language_info": {
   "codemirror_mode": {
    "name": "ipython",
    "version": 3
   },
   "file_extension": ".py",
   "mimetype": "text/x-python",
   "name": "python",
   "nbconvert_exporter": "python",
   "pygments_lexer": "ipython3",
   "version": "3.11.13"
  }
 },
 "nbformat": 4,
 "nbformat_minor": 5
}
