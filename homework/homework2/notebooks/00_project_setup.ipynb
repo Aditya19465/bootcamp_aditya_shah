{
 "cells": [
  {
   "cell_type": "code",
   "execution_count": 2,
   "id": "ea710f42",
   "metadata": {},
   "outputs": [],
   "source": [
    "import os\n",
    "os.chdir(\"..\")  # move up to homework2 as working directory\n"
   ]
  },
  {
   "cell_type": "code",
   "execution_count": 3,
   "id": "8bfd19e6",
   "metadata": {},
   "outputs": [
    {
     "name": "stdout",
     "output_type": "stream",
     "text": [
      "API_KEY present: True\n",
      "DATA_DIR value: ./data\n"
     ]
    }
   ],
   "source": [
    "from src.config import load_env, get_key\n",
    "\n",
    "load_env()\n",
    "api_key = get_key(\"API_KEY\")\n",
    "print(\"API_KEY present:\", api_key is not None)\n",
    "print(\"DATA_DIR value:\", get_key(\"DATA_DIR\"))\n"
   ]
  },
  {
   "cell_type": "code",
   "execution_count": null,
   "id": "0fef1bd1",
   "metadata": {},
   "outputs": [],
   "source": [
    "    "
   ]
  }
 ],
 "metadata": {
  "kernelspec": {
   "display_name": "fe-course",
   "language": "python",
   "name": "python3"
  },
  "language_info": {
   "codemirror_mode": {
    "name": "ipython",
    "version": 3
   },
   "file_extension": ".py",
   "mimetype": "text/x-python",
   "name": "python",
   "nbconvert_exporter": "python",
   "pygments_lexer": "ipython3",
   "version": "3.11.13"
  }
 },
 "nbformat": 4,
 "nbformat_minor": 5
}
