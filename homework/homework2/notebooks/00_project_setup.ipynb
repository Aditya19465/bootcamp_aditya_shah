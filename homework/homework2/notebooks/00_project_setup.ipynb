{
 "cells": [
  {
   "cell_type": "code",
   "execution_count": null,
   "id": "4b04bd30",
   "metadata": {},
   "outputs": [],
   "source": [
    "from src.config import load_env, get_key\n",
    "\n",
    "load_env()\n",
    "api_key = get_key(\"API_KEY\")\n",
    "print(\"API_KEY present:\", api_key is not None)\n",
    "print(\"DATA_DIR value:\", get_key(\"DATA_DIR\"))\n"
   ]
  }
 ],
 "metadata": {
  "kernelspec": {
   "display_name": "fe-course",
   "language": "python",
   "name": "python3"
  },
  "language_info": {
   "name": "python",
   "version": "3.11.13"
  }
 },
 "nbformat": 4,
 "nbformat_minor": 5
}
