{
 "cells": [
  {
   "cell_type": "markdown",
   "id": "89d4b893",
   "metadata": {},
   "source": [
    "# Stage 6: Comprehensive Data Preprocessing\n",
    "- Missing data handling (MCAR/MAR/MNAR, visualization, fill/drop strategies)\n",
    "- Filtering and threshold-based row drops\n",
    "- Type corrections (currency, dates, categorical)\n",
    "- Scaling/normalization (MinMax, StandardScaler)\n",
    "- Reusable functions for reproducibility and workflow\n"
   ]
  },
  {
   "cell_type": "code",
   "execution_count": 2,
   "id": "4691272b",
   "metadata": {},
   "outputs": [
    {
     "name": "stdout",
     "output_type": "stream",
     "text": [
      "Requirement already satisfied: scikit-learn in /opt/miniconda3/envs/fe-course/lib/python3.11/site-packages (1.7.1)\n",
      "Requirement already satisfied: numpy>=1.22.0 in /opt/miniconda3/envs/fe-course/lib/python3.11/site-packages (from scikit-learn) (2.3.2)\n",
      "Requirement already satisfied: scipy>=1.8.0 in /opt/miniconda3/envs/fe-course/lib/python3.11/site-packages (from scikit-learn) (1.16.1)\n",
      "Requirement already satisfied: joblib>=1.2.0 in /opt/miniconda3/envs/fe-course/lib/python3.11/site-packages (from scikit-learn) (1.5.1)\n",
      "Requirement already satisfied: threadpoolctl>=3.1.0 in /opt/miniconda3/envs/fe-course/lib/python3.11/site-packages (from scikit-learn) (3.6.0)\n",
      "Note: you may need to restart the kernel to use updated packages.\n"
     ]
    }
   ],
   "source": [
    "pip install scikit-learn\n"
   ]
  },
  {
   "cell_type": "code",
   "execution_count": 3,
   "id": "0b7efeeb",
   "metadata": {},
   "outputs": [],
   "source": [
    "# Imports\n",
    "import pandas as pd\n",
    "import numpy as np\n",
    "import seaborn as sns\n",
    "import matplotlib.pyplot as plt\n",
    "from sklearn.preprocessing import MinMaxScaler, StandardScaler\n",
    "import missingno as msno\n",
    "import os \n",
    "from dotenv import load_dotenv"
   ]
  },
  {
   "cell_type": "code",
   "execution_count": 4,
   "id": "06ea76de",
   "metadata": {},
   "outputs": [
    {
     "data": {
      "text/plain": [
       "True"
      ]
     },
     "execution_count": 4,
     "metadata": {},
     "output_type": "execute_result"
    }
   ],
   "source": [
    "\n",
    "\n",
    "# Step 1: Find project root dynamically (look for folder containing .env)\n",
    "current_dir = os.getcwd()\n",
    "project_root = current_dir\n",
    "\n",
    "while not os.path.isfile(os.path.join(project_root, \".env\")):\n",
    "    # Go one directory up\n",
    "    parent_dir = os.path.abspath(os.path.join(project_root, \"..\"))\n",
    "    if parent_dir == project_root:\n",
    "        raise FileNotFoundError(\".env file not found in any parent directory\")\n",
    "    project_root = parent_dir\n",
    "\n",
    "# Step 2: Load .env from project root\n",
    "load_dotenv(os.path.join(project_root, \".env\"))"
   ]
  },
  {
   "cell_type": "markdown",
   "id": "8cc58bfa",
   "metadata": {},
   "source": [
    "## Load Dataset"
   ]
  },
  {
   "cell_type": "code",
   "execution_count": 5,
   "id": "356ec586",
   "metadata": {},
   "outputs": [
    {
     "data": {
      "text/html": [
       "<div>\n",
       "<style scoped>\n",
       "    .dataframe tbody tr th:only-of-type {\n",
       "        vertical-align: middle;\n",
       "    }\n",
       "\n",
       "    .dataframe tbody tr th {\n",
       "        vertical-align: top;\n",
       "    }\n",
       "\n",
       "    .dataframe thead th {\n",
       "        text-align: right;\n",
       "    }\n",
       "</style>\n",
       "<table border=\"1\" class=\"dataframe\">\n",
       "  <thead>\n",
       "    <tr style=\"text-align: right;\">\n",
       "      <th></th>\n",
       "      <th>exchange</th>\n",
       "      <th>date_time</th>\n",
       "      <th>bid</th>\n",
       "      <th>ask</th>\n",
       "    </tr>\n",
       "  </thead>\n",
       "  <tbody>\n",
       "    <tr>\n",
       "      <th>0</th>\n",
       "      <td>USD/ZAR</td>\n",
       "      <td>20250701 00:00:00.078</td>\n",
       "      <td>17.7147</td>\n",
       "      <td>17.7272</td>\n",
       "    </tr>\n",
       "    <tr>\n",
       "      <th>1</th>\n",
       "      <td>USD/ZAR</td>\n",
       "      <td>20250701 00:00:00.141</td>\n",
       "      <td>17.7123</td>\n",
       "      <td>17.7338</td>\n",
       "    </tr>\n",
       "    <tr>\n",
       "      <th>2</th>\n",
       "      <td>USD/ZAR</td>\n",
       "      <td>20250701 00:00:00.156</td>\n",
       "      <td>17.7167</td>\n",
       "      <td>17.7267</td>\n",
       "    </tr>\n",
       "    <tr>\n",
       "      <th>3</th>\n",
       "      <td>USD/ZAR</td>\n",
       "      <td>20250701 00:00:00.234</td>\n",
       "      <td>17.7185</td>\n",
       "      <td>17.7267</td>\n",
       "    </tr>\n",
       "    <tr>\n",
       "      <th>4</th>\n",
       "      <td>USD/ZAR</td>\n",
       "      <td>20250701 00:00:00.234</td>\n",
       "      <td>17.7185</td>\n",
       "      <td>17.7272</td>\n",
       "    </tr>\n",
       "  </tbody>\n",
       "</table>\n",
       "</div>"
      ],
      "text/plain": [
       "  exchange              date_time      bid      ask\n",
       "0  USD/ZAR  20250701 00:00:00.078  17.7147  17.7272\n",
       "1  USD/ZAR  20250701 00:00:00.141  17.7123  17.7338\n",
       "2  USD/ZAR  20250701 00:00:00.156  17.7167  17.7267\n",
       "3  USD/ZAR  20250701 00:00:00.234  17.7185  17.7267\n",
       "4  USD/ZAR  20250701 00:00:00.234  17.7185  17.7272"
      ]
     },
     "execution_count": 5,
     "metadata": {},
     "output_type": "execute_result"
    }
   ],
   "source": [
    "# Load instructor CSV\n",
    "df = pd.read_csv(os.getenv(\"DATA_DIR_RAW\") + \"/USD_ZAR_2025_07.csv\")\n",
    "df.head()"
   ]
  },
  {
   "cell_type": "markdown",
   "id": "a6af9db0",
   "metadata": {},
   "source": [
    "## Inspect Missingness"
   ]
  },
  {
   "cell_type": "code",
   "execution_count": 6,
   "id": "2067b1b8",
   "metadata": {},
   "outputs": [
    {
     "name": "stdout",
     "output_type": "stream",
     "text": [
      "<class 'pandas.core.frame.DataFrame'>\n",
      "RangeIndex: 6720782 entries, 0 to 6720781\n",
      "Data columns (total 4 columns):\n",
      " #   Column     Dtype  \n",
      "---  ------     -----  \n",
      " 0   exchange   object \n",
      " 1   date_time  object \n",
      " 2   bid        float64\n",
      " 3   ask        float64\n",
      "dtypes: float64(2), object(2)\n",
      "memory usage: 205.1+ MB\n"
     ]
    },
    {
     "data": {
      "image/png": "[encoded data removed]",
      "text/plain": [
       "<Figure size 640x480 with 1 Axes>"
      ]
     },
     "metadata": {},
     "output_type": "display_data"
    },
    {
     "data": {
      "text/plain": [
       "<Axes: >"
      ]
     },
     "execution_count": 6,
     "metadata": {},
     "output_type": "execute_result"
    },
    {
     "data": {
      "image/png": "[encoded data removed]",
      "text/plain": [
       "<Figure size 2500x1000 with 2 Axes>"
      ]
     },
     "metadata": {},
     "output_type": "display_data"
    }
   ],
   "source": [
    "# Basic info and missing counts\n",
    "df.info()\n",
    "df.isna().sum()\n",
    "\n",
    "# Heatmap for missing data\n",
    "sns.heatmap(df.isnull(), cbar=False)\n",
    "plt.show()\n",
    "\n",
    "# missingno visualization\n",
    "msno.matrix(df)"
   ]
  },
  {
   "cell_type": "markdown",
   "id": "4d2478c3",
   "metadata": {},
   "source": [
    "## Simulate MCAR / MAR / MNAR Missingness"
   ]
  },
  {
   "cell_type": "code",
   "execution_count": 7,
   "id": "638b7ae3",
   "metadata": {},
   "outputs": [],
   "source": [
    "# MCAR: random missing\n",
    "df['MCAR_col'] = df['bid'].mask(np.random.rand(len(df)) < 0.1)\n",
    "# MAR: missing depends on another column\n",
    "df['MAR_col'] = df['bid'].mask(df['date_time'].str.split().str[0]=='20250701')\n",
    "# MNAR: missing depends on its own value\n",
    "df['MNAR_col'] = df['bid'].mask(df['bid']>50)"
   ]
  },
  {
   "cell_type": "markdown",
   "id": "f90ef622",
   "metadata": {},
   "source": [
    "## Handling Missing Values"
   ]
  },
  {
   "cell_type": "code",
   "execution_count": 8,
   "id": "ea83bd56",
   "metadata": {},
   "outputs": [
    {
     "name": "stderr",
     "output_type": "stream",
     "text": [
      "/var/folders/bv/q79dnkgx31j62rs4kyg5rwpm0000gn/T/ipykernel_12022/847768859.py:10: FutureWarning: DataFrame.fillna with 'method' is deprecated and will raise in a future version. Use obj.ffill() or obj.bfill() instead.\n",
      "  df_fill_ffill = df.fillna(method='ffill')\n"
     ]
    }
   ],
   "source": [
    "# Fill missing with median\n",
    "df['bid'] = df['bid'].fillna(df['bid'].median())\n",
    "\n",
    "# Drop rows with missing MCAR\n",
    "df.dropna(subset=['MCAR_col'], inplace=True)\n",
    "\n",
    "# Alternative strategies\n",
    "df_fill_mean = df.fillna(df.mean(numeric_only=True))\n",
    "df_fill_median = df.fillna(df.median(numeric_only=True))\n",
    "df_fill_ffill = df.fillna(method='ffill')\n",
    "\n",
    "# Threshold-based row drop example\n",
    "df_drop_thresh = df.dropna(thresh=int(0.5*df.shape[1]))"
   ]
  },
  {
   "cell_type": "markdown",
   "id": "44d3b134",
   "metadata": {},
   "source": [
    "## Type Corrections"
   ]
  },
  {
   "cell_type": "code",
   "execution_count": 9,
   "id": "1d2aa72d",
   "metadata": {},
   "outputs": [],
   "source": [
    "# Currency string to numeric\n",
    "if 'price' in df.columns:\n",
    "    df['price'] = df['price'].str.replace('$','').astype(float)\n",
    "\n",
    "# Convert string to datetime\n",
    "if 'date_time' in df.columns:\n",
    "    df['date_time'] = pd.to_datetime(df['date_time'], errors='coerce')\n",
    "\n",
    "# Standardize categorical column\n",
    "if 'category' in df.columns:\n",
    "    df['category'] = df['category'].str.lower().astype('category')"
   ]
  },
  {
   "cell_type": "code",
   "execution_count": null,
   "id": "3b97fe61",
   "metadata": {},
   "outputs": [
    {
     "name": "stdout",
     "output_type": "stream",
     "text": [
      "        exchange               date_time      bid      ask  MCAR_col  MAR_col  \\\n",
      "0        USD/ZAR 2025-07-01 00:00:00.078  17.7147  17.7272   17.7147      NaN   \n",
      "1        USD/ZAR 2025-07-01 00:00:00.141  17.7123  17.7338   17.7123      NaN   \n",
      "3        USD/ZAR 2025-07-01 00:00:00.234  17.7185  17.7267   17.7185      NaN   \n",
      "4        USD/ZAR 2025-07-01 00:00:00.234  17.7185  17.7272   17.7185      NaN   \n",
      "5        USD/ZAR 2025-07-01 00:00:00.313  17.7139  17.7336   17.7139      NaN   \n",
      "...          ...                     ...      ...      ...       ...      ...   \n",
      "6720777  USD/ZAR 2025-07-31 23:59:20.574  18.2101  18.2252   18.2101  18.2101   \n",
      "6720778  USD/ZAR 2025-07-31 23:59:37.542  18.2065  18.2308   18.2065  18.2065   \n",
      "6720779  USD/ZAR 2025-07-31 23:59:39.120  18.2101  18.2252   18.2101  18.2101   \n",
      "6720780  USD/ZAR 2025-07-31 23:59:40.713  18.2101  18.2252   18.2101  18.2101   \n",
      "6720781  USD/ZAR 2025-07-31 23:59:51.306  18.2101  18.2252   18.2101  18.2101   \n",
      "\n",
      "         MNAR_col  \n",
      "0         17.7147  \n",
      "1         17.7123  \n",
      "3         17.7185  \n",
      "4         17.7185  \n",
      "5         17.7139  \n",
      "...           ...  \n",
      "6720777   18.2101  \n",
      "6720778   18.2065  \n",
      "6720779   18.2101  \n",
      "6720780   18.2101  \n",
      "6720781   18.2101  \n",
      "\n",
      "[6048044 rows x 7 columns]\n",
      "\n",
      "Column types:\n",
      "exchange             object\n",
      "date_time    datetime64[ns]\n",
      "bid                 float64\n",
      "ask                 float64\n",
      "MCAR_col            float64\n",
      "MAR_col             float64\n",
      "MNAR_col            float64\n",
      "dtype: object\n",
      "\n",
      "Numeric columns (generic): ['bid', 'ask', 'MCAR_col', 'MAR_col', 'MNAR_col']\n",
      "Object columns (generic): ['exchange']\n"
     ]
    }
   ],
   "source": [
    "\n",
    "\n",
    "# print(\"Demo DataFrame:\")\n",
    "print(df)\n",
    "\n",
    "# Show column types\n",
    "print(\"\\nColumn types:\")\n",
    "print(df.dtypes)\n",
    "\n",
    "\n",
    "# Select numeric columns (generic)\n",
    "numeric_cols = df.select_dtypes(include='number').columns\n",
    "print(\"\\nNumeric columns (generic):\", list(numeric_cols))\n",
    "\n",
    "# Select object columns (generic)\n",
    "object_cols = df.select_dtypes(include='object').columns\n",
    "print(\"Object columns (generic):\", list(object_cols))\n"
   ]
  },
  {
   "cell_type": "markdown",
   "id": "615439a9",
   "metadata": {},
   "source": [
    "## Scaling and Normalization"
   ]
  },
  {
   "cell_type": "code",
   "execution_count": 11,
   "id": "53fcdc66",
   "metadata": {},
   "outputs": [],
   "source": [
    "# MinMax scaling for numeric_col\n",
    "scaler = MinMaxScaler()\n",
    "df['numeric_scaled_bid'] = scaler.fit_transform(df[['bid']])\n",
    "\n",
    "df['numeric_scaled_ask'] = scaler.fit_transform(df[['ask']])\n",
    "# StandardScaler\n",
    "standardizer = StandardScaler()\n",
    "df['numeric_standard_bid'] = standardizer.fit_transform(df[['bid']])\n",
    "\n",
    "df['numeric_standard_ask'] = standardizer.fit_transform(df[['ask']])\n"
   ]
  },
  {
   "cell_type": "markdown",
   "id": "87a1ed4e",
   "metadata": {},
   "source": [
    "## Reusable Functions for Cleaning"
   ]
  },
  {
   "cell_type": "code",
   "execution_count": 12,
   "id": "e76fc76b",
   "metadata": {},
   "outputs": [],
   "source": [
    "def fill_missing_median(df, columns=None):\n",
    "    df_copy = df.copy()\n",
    "    if columns is None:\n",
    "        columns = df.select_dtypes(include=np.number).columns\n",
    "    for col in columns:\n",
    "        df_copy[col] = df_copy[col].fillna(df_copy[col].median())\n",
    "    return df_copy\n",
    "\n",
    "def drop_missing(df, columns=None, threshold=None):\n",
    "    df_copy = df.copy()\n",
    "    if columns is not None:\n",
    "        return df_copy.dropna(subset=columns)\n",
    "    if threshold is not None:\n",
    "        return df_copy.dropna(thresh=int(threshold*df_copy.shape[1]))\n",
    "    return df_copy.dropna()\n",
    "\n",
    "def normalize_data(df, columns=None, method='minmax'):\n",
    "    df_copy = df.copy()\n",
    "    if columns is None:\n",
    "        columns = df_copy.select_dtypes(include=np.number).columns\n",
    "    if method=='minmax':\n",
    "        scaler = MinMaxScaler()\n",
    "    else:\n",
    "        scaler = StandardScaler()\n",
    "    df_copy[columns] = scaler.fit_transform(df_copy[columns])\n",
    "    return df_copy\n",
    "\n",
    "def correct_column_types(df):\n",
    "    df_copy = df.copy()\n",
    "    if 'price' in df_copy.columns:\n",
    "        df_copy['price'] = df_copy['price'].str.replace('$','').astype(float)\n",
    "    if 'date_str' in df_copy.columns:\n",
    "        df_copy['date'] = pd.to_datetime(df_copy['date_str'], errors='coerce')\n",
    "    if 'category' in df_copy.columns:\n",
    "        df_copy['category'] = df_copy['category'].str.lower().astype('category')\n",
    "    return df_copy"
   ]
  },
  {
   "cell_type": "markdown",
   "id": "79552497",
   "metadata": {},
   "source": [
    "## Validation & Save Cleaned Dataset"
   ]
  },
  {
   "cell_type": "code",
   "execution_count": 13,
   "id": "913f3649",
   "metadata": {},
   "outputs": [
    {
     "name": "stdout",
     "output_type": "stream",
     "text": [
      "  exchange               date_time       bid       ask  MCAR_col   MAR_col  \\\n",
      "0  USD/ZAR 2025-07-01 00:00:00.078  0.345623  0.306501  0.345623  0.426581   \n",
      "1  USD/ZAR 2025-07-01 00:00:00.141  0.342582  0.314948  0.342582  0.426581   \n",
      "3  USD/ZAR 2025-07-01 00:00:00.234  0.350437  0.305861  0.350437  0.426581   \n",
      "4  USD/ZAR 2025-07-01 00:00:00.234  0.350437  0.306501  0.350437  0.426581   \n",
      "5  USD/ZAR 2025-07-01 00:00:00.313  0.344609  0.314692  0.344609  0.426581   \n",
      "\n",
      "   MNAR_col  numeric_scaled_bid  numeric_scaled_ask  numeric_standard_bid  \\\n",
      "0  0.345623            0.345623            0.306501              0.345623   \n",
      "1  0.342582            0.342582            0.314948              0.342582   \n",
      "3  0.350437            0.350437            0.305861              0.350437   \n",
      "4  0.350437            0.350437            0.306501              0.350437   \n",
      "5  0.344609            0.344609            0.314692              0.344609   \n",
      "\n",
      "   numeric_standard_ask  \n",
      "0              0.306501  \n",
      "1              0.314948  \n",
      "3              0.305861  \n",
      "4              0.306501  \n",
      "5              0.314692  \n"
     ]
    }
   ],
   "source": [
    "# Apply reusable functions\n",
    "df_cleaned = df.copy()\n",
    "df_cleaned = fill_missing_median(df_cleaned)\n",
    "df_cleaned = drop_missing(df_cleaned, threshold=0.5)\n",
    "df_cleaned = normalize_data(df_cleaned)\n",
    "df_cleaned = correct_column_types(df_cleaned)\n",
    "\n",
    "print(df_cleaned.head())"
   ]
  },
  {
   "cell_type": "markdown",
   "id": "a475c63d",
   "metadata": {},
   "source": [
    "## Preprocessing Assumptions\n",
    "\n",
    "When we clean and preprocess data, every choice encodes assumptions about the dataset. It's important to document these for reproducibility and stakeholder understanding.\n",
    "\n",
    "### 1. Missing Data Handling\n",
    "- Filling missing numeric values with median assumes the missingness is **MCAR or MAR** (not systematically biased).  \n",
    "- Forward/backward fill assumes **temporal continuity** in time series data.  \n",
    "- Dropping rows assumes the missing rows are **not critical** to analysis.  \n",
    "- Imputation affects averages, distributions, and model training.\n",
    "\n",
    "### 2. Understanding Missingness\n",
    "- MCAR: safe to drop or fill, assumes randomness.  \n",
    "- MAR: imputation using related features is valid.  \n",
    "- MNAR: missing depends on unobserved values; may require domain knowledge.  \n",
    "- Misidentifying missingness can bias results.\n",
    "\n",
    "### 3. Filtering / Data Cleaning\n",
    "- Removing negative or out-of-range values assumes they are **errors or invalid entries**.  \n",
    "- Dropping columns or rows with excessive missingness assumes those data are **non-essential**.  \n",
    "- Rare but valid events might be lost if thresholds are too strict.\n",
    "\n",
    "### 4. Scaling / Normalization\n",
    "- StandardScaler assumes features are roughly **normally distributed**.  \n",
    "- MinMaxScaler assumes min and max values are **representative**, not extreme outliers.  \n",
    "- Scaling changes interpretation of magnitudes; coefficients or distances may be affected.\n",
    "\n",
    "### 5. Column Type Corrections\n",
    "- Converting strings to numeric assumes there are **no hidden characters or formatting issues**.  \n",
    "- Parsing dates assumes a **consistent date format**.  \n",
    "- Categoricals assume a **finite, discrete set of values**.  \n",
    "- Wrong types can break computations or modeling.\n",
    "\n",
    "### 6. Reproducibility & Modularity\n",
    "- Using modular functions assumes **future datasets follow similar structure and patterns**.  \n",
    "- Documenting assumptions ensures that preprocessing is **transparent** and results are interpretable.\n",
    "\n",
    "> **Tip:** Always communicate these assumptions to stakeholders, so they understand the limitations and decisions made during preprocessing.\n"
   ]
  },
  {
   "cell_type": "markdown",
   "id": "80daf97d",
   "metadata": {},
   "source": []
  }
 ],
 "metadata": {
  "kernelspec": {
   "display_name": "fe-course",
   "language": "python",
   "name": "python3"
  },
  "language_info": {
   "codemirror_mode": {
    "name": "ipython",
    "version": 3
   },
   "file_extension": ".py",
   "mimetype": "text/x-python",
   "name": "python",
   "nbconvert_exporter": "python",
   "pygments_lexer": "ipython3",
   "version": "3.11.13"
  }
 },
 "nbformat": 4,
 "nbformat_minor": 5
}
