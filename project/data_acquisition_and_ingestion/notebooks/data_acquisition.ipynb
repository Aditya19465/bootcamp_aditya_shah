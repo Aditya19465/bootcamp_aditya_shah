{
 "cells": [
  {
   "cell_type": "code",
   "execution_count": 10,
   "id": "b7c6b2bd",
   "metadata": {},
   "outputs": [],
   "source": [
    "# !pip install selenium"
   ]
  },
  {
   "cell_type": "code",
   "execution_count": 2,
   "id": "0d554f7c",
   "metadata": {},
   "outputs": [],
   "source": [
    "import os\n",
    "from dotenv import load_dotenv\n",
    "from selenium import webdriver\n",
    "from selenium.webdriver.common.by import By\n",
    "from selenium.webdriver.common.keys import Keys\n",
    "import time\n",
    "\n"
   ]
  },
  {
   "cell_type": "code",
   "execution_count": 3,
   "id": "107ee412",
   "metadata": {},
   "outputs": [
    {
     "name": "stdout",
     "output_type": "stream",
     "text": [
      "TRUEFX_USERNAME loaded? True\n",
      "TRUEFX_PASSWORD loaded? True\n"
     ]
    }
   ],
   "source": [
    "import os\n",
    "from dotenv import load_dotenv\n",
    "\n",
    "# Step 1: Find project root dynamically (look for folder containing .env)\n",
    "current_dir = os.getcwd()\n",
    "project_root = current_dir\n",
    "\n",
    "while not os.path.isfile(os.path.join(project_root, \".env\")):\n",
    "    # Go one directory up\n",
    "    parent_dir = os.path.abspath(os.path.join(project_root, \"..\"))\n",
    "    if parent_dir == project_root:\n",
    "        raise FileNotFoundError(\".env file not found in any parent directory\")\n",
    "    project_root = parent_dir\n",
    "\n",
    "# Step 2: Load .env from project root\n",
    "load_dotenv(os.path.join(project_root, \".env\"))\n",
    "\n",
    "# Step 3: Access variables\n",
    "TRUEFX_USERNAME = os.getenv(\"TRUEFX_USERNAME\")\n",
    "TRUEFX_PASSWORD = os.getenv(\"TRUEFX_PASSWORD\")\n",
    "\n",
    "print('TRUEFX_USERNAME loaded?', bool(os.getenv('TRUEFX_USERNAME')))\n",
    "print('TRUEFX_PASSWORD loaded?', bool(os.getenv('TRUEFX_PASSWORD')))"
   ]
  },
  {
   "cell_type": "code",
   "execution_count": 4,
   "id": "ce53773d",
   "metadata": {},
   "outputs": [],
   "source": [
    "options = webdriver.ChromeOptions()\n",
    "prefs = {\"download.default_directory\": os.getenv(\"DOWNLOAD_DATA_ACQUISITION_DIRECTORY\")}\n",
    "options.add_experimental_option(\"prefs\", prefs)\n",
    "\n",
    "\n"
   ]
  },
  {
   "cell_type": "code",
   "execution_count": 5,
   "id": "97c058ac",
   "metadata": {},
   "outputs": [],
   "source": [
    "\n",
    "\n",
    "# Launch Browser\n",
    "driver = webdriver.Chrome(options=options)\n",
    "# Open login page\n",
    "driver.get(\"https://www.truefx.com/truefx-login/\")\n",
    "\n",
    "# Fill in username and password\n",
    "username = driver.find_element(By.ID, \"user_login\")  # check the exact element id/name in DevTools\n",
    "password = driver.find_element(By.ID, \"user_pass\")\n",
    "\n",
    "username.send_keys(os.getenv(\"TRUEFX_USERNAME\"))\n",
    "password.send_keys(os.getenv('TRUEFX_PASSWORD'))\n",
    "\n",
    "# Submit login form\n",
    "password.send_keys(Keys.RETURN)\n",
    "\n",
    "# Wait for login to complete\n",
    "time.sleep(15)\n",
    "\n",
    "# Navigate to downloads page\n",
    "driver.get(\"https://www.truefx.com/truefx-historical-downloads/#138-145-july\")\n",
    "\n",
    "# Example: Click the first download link\n",
    "link = driver.find_element(By.LINK_TEXT, \"July\")  # adjust text\n",
    "link.click()\n",
    "time.sleep(5)\n",
    "link = driver.find_element(By.LINK_TEXT, \"USDZAR-2025-07\")  # adjust text\n",
    "link.click()\n",
    "time.sleep(10)  # wait for download\n",
    "driver.quit()\n"
   ]
  },
  {
   "cell_type": "code",
   "execution_count": null,
   "id": "7aaaf0ed",
   "metadata": {},
   "outputs": [],
   "source": []
  },
  {
   "cell_type": "code",
   "execution_count": null,
   "id": "7e3ac4b3",
   "metadata": {},
   "outputs": [],
   "source": []
  }
 ],
 "metadata": {
  "kernelspec": {
   "display_name": "fe-course",
   "language": "python",
   "name": "python3"
  },
  "language_info": {
   "codemirror_mode": {
    "name": "ipython",
    "version": 3
   },
   "file_extension": ".py",
   "mimetype": "text/x-python",
   "name": "python",
   "nbconvert_exporter": "python",
   "pygments_lexer": "ipython3",
   "version": "3.11.13"
  }
 },
 "nbformat": 4,
 "nbformat_minor": 5
}
