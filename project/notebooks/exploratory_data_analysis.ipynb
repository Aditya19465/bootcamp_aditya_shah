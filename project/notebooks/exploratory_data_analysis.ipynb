{
 "cells": [
  {
   "cell_type": "code",
   "execution_count": 3,
   "id": "08c10aa7",
   "metadata": {},
   "outputs": [],
   "source": [
    "# eda.ipynb\n",
    "\n",
    "# -----------------------------\n",
    "# 1. Imports\n",
    "# -----------------------------\n",
    "import pandas as pd\n",
    "import numpy as np\n",
    "import matplotlib.pyplot as plt\n",
    "import seaborn as sns\n",
    "import os\n",
    "from dotenv import load_dotenv\n",
    "sns.set(style=\"whitegrid\")\n",
    "plt.rcParams['figure.figsize'] = (14,6)\n"
   ]
  },
  {
   "cell_type": "code",
   "execution_count": 4,
   "id": "4a4b882b",
   "metadata": {},
   "outputs": [
    {
     "data": {
      "text/plain": [
       "True"
      ]
     },
     "execution_count": 4,
     "metadata": {},
     "output_type": "execute_result"
    }
   ],
   "source": [
    "#LOAD ENV PATH\n",
    "current_dir = os.getcwd()\n",
    "project_root = current_dir\n",
    "\n",
    "while not os.path.isfile(os.path.join(project_root, \".env\")):\n",
    "    # Go one directory up\n",
    "    parent_dir = os.path.abspath(os.path.join(project_root, \"..\"))\n",
    "    if parent_dir == project_root:\n",
    "        raise FileNotFoundError(\".env file not found in any parent directory\")\n",
    "    project_root = parent_dir\n",
    "\n",
    "# Step 2: Load .env from project root\n",
    "load_dotenv(os.path.join(project_root, \".env\"))\n"
   ]
  },
  {
   "cell_type": "code",
   "execution_count": 6,
   "id": "20850351",
   "metadata": {},
   "outputs": [
    {
     "data": {
      "text/html": [
       "<div>\n",
       "<style scoped>\n",
       "    .dataframe tbody tr th:only-of-type {\n",
       "        vertical-align: middle;\n",
       "    }\n",
       "\n",
       "    .dataframe tbody tr th {\n",
       "        vertical-align: top;\n",
       "    }\n",
       "\n",
       "    .dataframe thead th {\n",
       "        text-align: right;\n",
       "    }\n",
       "</style>\n",
       "<table border=\"1\" class=\"dataframe\">\n",
       "  <thead>\n",
       "    <tr style=\"text-align: right;\">\n",
       "      <th></th>\n",
       "      <th>exchange</th>\n",
       "      <th>date_time</th>\n",
       "      <th>bid</th>\n",
       "      <th>ask</th>\n",
       "    </tr>\n",
       "  </thead>\n",
       "  <tbody>\n",
       "    <tr>\n",
       "      <th>0</th>\n",
       "      <td>USD/ZAR</td>\n",
       "      <td>20250701 00:00:00.078</td>\n",
       "      <td>17.7147</td>\n",
       "      <td>17.7272</td>\n",
       "    </tr>\n",
       "    <tr>\n",
       "      <th>1</th>\n",
       "      <td>USD/ZAR</td>\n",
       "      <td>20250701 00:00:00.141</td>\n",
       "      <td>17.7123</td>\n",
       "      <td>17.7338</td>\n",
       "    </tr>\n",
       "    <tr>\n",
       "      <th>2</th>\n",
       "      <td>USD/ZAR</td>\n",
       "      <td>20250701 00:00:00.156</td>\n",
       "      <td>17.7167</td>\n",
       "      <td>17.7267</td>\n",
       "    </tr>\n",
       "    <tr>\n",
       "      <th>3</th>\n",
       "      <td>USD/ZAR</td>\n",
       "      <td>20250701 00:00:00.234</td>\n",
       "      <td>17.7185</td>\n",
       "      <td>17.7267</td>\n",
       "    </tr>\n",
       "    <tr>\n",
       "      <th>4</th>\n",
       "      <td>USD/ZAR</td>\n",
       "      <td>20250701 00:00:00.234</td>\n",
       "      <td>17.7185</td>\n",
       "      <td>17.7272</td>\n",
       "    </tr>\n",
       "  </tbody>\n",
       "</table>\n",
       "</div>"
      ],
      "text/plain": [
       "  exchange              date_time      bid      ask\n",
       "0  USD/ZAR  20250701 00:00:00.078  17.7147  17.7272\n",
       "1  USD/ZAR  20250701 00:00:00.141  17.7123  17.7338\n",
       "2  USD/ZAR  20250701 00:00:00.156  17.7167  17.7267\n",
       "3  USD/ZAR  20250701 00:00:00.234  17.7185  17.7267\n",
       "4  USD/ZAR  20250701 00:00:00.234  17.7185  17.7272"
      ]
     },
     "metadata": {},
     "output_type": "display_data"
    },
    {
     "name": "stdout",
     "output_type": "stream",
     "text": [
      "<class 'pandas.core.frame.DataFrame'>\n",
      "RangeIndex: 6720782 entries, 0 to 6720781\n",
      "Data columns (total 4 columns):\n",
      " #   Column     Dtype  \n",
      "---  ------     -----  \n",
      " 0   exchange   object \n",
      " 1   date_time  object \n",
      " 2   bid        float64\n",
      " 3   ask        float64\n",
      "dtypes: float64(2), object(2)\n",
      "memory usage: 205.1+ MB\n",
      "None\n",
      "                bid           ask\n",
      "count  6.720782e+06  6.720782e+06\n",
      "mean   1.775517e+01  1.776158e+01\n",
      "std    1.463539e-01  1.462219e-01\n",
      "min    1.744190e+01  1.748770e+01\n",
      "25%    1.761330e+01  1.761960e+01\n",
      "50%    1.776970e+01  1.777550e+01\n",
      "75%    1.786620e+01  1.787200e+01\n",
      "max    1.823120e+01  1.829920e+01\n"
     ]
    }
   ],
   "source": [
    "\n",
    "# -----------------------------\n",
    "# 2. Load Dataset\n",
    "# -----------------------------\n",
    "df = pd.read_parquet(os.getenv(\"DATA_DIR_PROCESSED\") + \"/USD_ZAR_2025_07.parquet\")\n",
    "\n",
    "# Inspect first rows\n",
    "display(df.head())\n",
    "print(df.info())\n",
    "print(df.describe())\n"
   ]
  },
  {
   "cell_type": "code",
   "execution_count": 5,
   "id": "86e455e3",
   "metadata": {},
   "outputs": [
    {
     "name": "stdout",
     "output_type": "stream",
     "text": [
      "Missing timestamps: 0\n"
     ]
    }
   ],
   "source": [
    "\n",
    "# -----------------------------\n",
    "# 3. Data Cleaning\n",
    "# -----------------------------\n",
    "# Remove duplicates\n",
    "df = df.drop_duplicates()\n",
    "\n",
    "# Convert date_time to datetime\n",
    "df['date_time'] = pd.to_datetime(df['date_time'], format='%Y%m%d %H:%M:%S.%f')\n",
    "\n",
    "# Sort by timestamp\n",
    "df = df.sort_values('date_time').reset_index(drop=True)\n",
    "\n",
    "# Check for missing timestamps\n",
    "print(\"Missing timestamps:\", df['date_time'].isna().sum())\n",
    "\n"
   ]
  },
  {
   "cell_type": "code",
   "execution_count": 6,
   "id": "35dcb418",
   "metadata": {},
   "outputs": [],
   "source": [
    "# -----------------------------\n",
    "# 4. Feature Creation for EDA\n",
    "# -----------------------------\n",
    "# Mid-price and spread\n",
    "df['mid_price'] = (df['bid'] + df['ask']) / 2\n",
    "df['spread'] = df['ask'] - df['bid']\n",
    "\n",
    "# Price changes / deltas\n",
    "df['delta_bid'] = df['bid'].diff()\n",
    "df['delta_ask'] = df['ask'].diff()\n",
    "df['delta_mid'] = df['mid_price'].diff()\n",
    "\n",
    "# Rolling statistics\n",
    "df['roll_mean_5'] = df['mid_price'].rolling(5).mean()\n",
    "df['roll_std_50'] = df['mid_price'].rolling(50).std()\n",
    "\n"
   ]
  },
  {
   "cell_type": "code",
   "execution_count": null,
   "id": "9b8b40f2",
   "metadata": {},
   "outputs": [],
   "source": [
    "# -----------------------------\n",
    "# 5. Exploratory Visualizations\n",
    "# -----------------------------\n",
    "\n",
    "output_folder = os.getenv(\"EDA_IMG_PATH\")\n",
    "os.makedirs(output_folder, exist_ok=True)  # create folder if it doesn't exist\n",
    "\n",
    "# 1. Bid, Ask, Mid price over time\n",
    "plt.figure()\n",
    "plt.plot(df['date_time'], df['bid'], label='Bid', alpha=0.7)\n",
    "plt.plot(df['date_time'], df['ask'], label='Ask', alpha=0.7)\n",
    "plt.plot(df['date_time'], df['mid_price'], label='Mid Price', alpha=0.7)\n",
    "plt.legend()\n",
    "plt.title('USD/ZAR Bid, Ask, Mid Price Over Time')\n",
    "plt.xlabel('Date Time')\n",
    "plt.ylabel('Price')\n",
    "plt.tight_layout()\n",
    "plt.savefig(os.path.join(output_folder, \"bid_ask_mid_price.png\"))\n",
    "plt.close()\n",
    "\n",
    "# 2. Spread over time\n",
    "plt.figure()\n",
    "plt.plot(df['date_time'], df['spread'])\n",
    "plt.title('Spread Over Time')\n",
    "plt.xlabel('Date Time')\n",
    "plt.ylabel('Spread (ZAR)')\n",
    "plt.tight_layout()\n",
    "plt.savefig(os.path.join(output_folder, \"spread_over_time.png\"))\n",
    "plt.close()\n",
    "\n",
    "# 3. Histogram of spread\n",
    "plt.figure()\n",
    "sns.histplot(df['spread'], bins=50, kde=True)\n",
    "plt.title('Spread Distribution')\n",
    "plt.xlabel('Spread')\n",
    "plt.ylabel('Frequency')\n",
    "plt.tight_layout()\n",
    "plt.savefig(os.path.join(output_folder, \"spread_distribution.png\"))\n",
    "plt.close()\n",
    "\n",
    "# 4. Histogram of mid-price delta\n",
    "plt.figure()\n",
    "sns.histplot(df['delta_mid'].dropna(), bins=100, kde=True)\n",
    "plt.title('Mid-Price Change Distribution')\n",
    "plt.xlabel('Delta Mid Price')\n",
    "plt.ylabel('Frequency')\n",
    "plt.tight_layout()\n",
    "plt.savefig(os.path.join(output_folder, \"delta_mid_distribution.png\"))\n",
    "plt.close()\n",
    "\n",
    "# 5. Rolling volatility\n",
    "plt.figure()\n",
    "plt.plot(df['date_time'], df['roll_std_50'])\n",
    "plt.title('Rolling 50-Tick Volatility of Mid Price')\n",
    "plt.xlabel('Date Time')\n",
    "plt.ylabel('Volatility')\n",
    "plt.tight_layout()\n",
    "plt.savefig(os.path.join(output_folder, \"rolling_volatility.png\"))\n",
    "plt.close()"
   ]
  },
  {
   "cell_type": "code",
   "execution_count": 8,
   "id": "86f79212",
   "metadata": {},
   "outputs": [
    {
     "name": "stdout",
     "output_type": "stream",
     "text": [
      "Dataset duration: 2025-07-01 00:00:00.078000 to 2025-07-31 23:59:51.306000\n",
      "Total ticks: 6537132\n",
      "Average spread: 0.006415747700979567\n",
      "Max spread: 0.4002999999999979\n",
      "Average delta_mid: 7.598134410951792e-08\n",
      "Max delta_mid: 0.04720000000000013\n"
     ]
    }
   ],
   "source": [
    "\n",
    "# -----------------------------\n",
    "# 6. Insights / Checks\n",
    "# -----------------------------\n",
    "print(\"Dataset duration:\", df['date_time'].min(), \"to\", df['date_time'].max())\n",
    "print(\"Total ticks:\", len(df))\n",
    "print(\"Average spread:\", df['spread'].mean())\n",
    "print(\"Max spread:\", df['spread'].max())\n",
    "print(\"Average delta_mid:\", df['delta_mid'].mean())\n",
    "print(\"Max delta_mid:\", df['delta_mid'].max())\n"
   ]
  }
 ],
 "metadata": {
  "kernelspec": {
   "display_name": "fe-course",
   "language": "python",
   "name": "python3"
  },
  "language_info": {
   "codemirror_mode": {
    "name": "ipython",
    "version": 3
   },
   "file_extension": ".py",
   "mimetype": "text/x-python",
   "name": "python",
   "nbconvert_exporter": "python",
   "pygments_lexer": "ipython3",
   "version": "3.11.13"
  }
 },
 "nbformat": 4,
 "nbformat_minor": 5
}
