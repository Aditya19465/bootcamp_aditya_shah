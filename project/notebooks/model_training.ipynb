{
  "cells": [
    {
      "cell_type": "markdown",
      "id": "b2918f2f",
      "metadata": {},
      "source": [
        "# DQN FX Agent Training Notebook\n",
        "\n",
        "This notebook contains a full, runnable implementation of the cleaned-up CNN+LSTM DQN agent and a synthetic data pipeline. Replace the synthetic data with your real `X_sequences` as needed."
      ]
    },
    {
      "cell_type": "code",
      "execution_count": 1,
      "id": "65c1b282",
      "metadata": {},
      "outputs": [
        {
          "name": "stdout",
          "output_type": "stream",
          "text": [
            "torch: 2.8.0\n"
          ]
        }
      ],
      "source": [
        "# 1. Imports\n",
        "import torch\n",
        "import torch.nn as nn\n",
        "import torch.optim as optim\n",
        "import numpy as np\n",
        "import random\n",
        "from collections import deque\n",
        "import matplotlib.pyplot as plt\n",
        "import os\n",
        "from dotenv import load_dotenv\n",
        "print('torch:', torch.__version__)\n"
      ]
    },
    {
      "cell_type": "code",
      "execution_count": 2,
      "id": "c5c1b641",
      "metadata": {},
      "outputs": [
        {
          "data": {
            "text/plain": [
              "device(type='cpu')"
            ]
          },
          "execution_count": 2,
          "metadata": {},
          "output_type": "execute_result"
        }
      ],
      "source": [
        "# 2. Hyperparameters\n",
        "sequence_length = 50        # ticks per RL step\n",
        "num_features = 10           # features per tick\n",
        "num_actions = 3             # 0=Buy,1=Sell,2=Hold\n",
        "batch_size = 64\n",
        "gamma = 0.99\n",
        "epsilon_start = 1.0\n",
        "epsilon_end = 0.1\n",
        "epsilon_decay = 0.995\n",
        "lr = 1e-4\n",
        "memory_size = 5000\n",
        "num_episodes = 200\n",
        "target_update_every = 10\n",
        "device = torch.device('cuda' if torch.cuda.is_available() else 'cpu')\n",
        "device\n"
      ]
    },
    {
      "cell_type": "code",
      "execution_count": 3,
      "id": "e379ce24",
      "metadata": {},
      "outputs": [],
      "source": [
        "# 3. Model: CNN + LSTM DQN\n",
        "class CNN_LSTM_DQN(nn.Module):\n",
        "    def __init__(self, num_features, sequence_length, num_actions):\n",
        "        super(CNN_LSTM_DQN, self).__init__()\n",
        "        self.cnn = nn.Sequential(\n",
        "            nn.Conv1d(in_channels=num_features, out_channels=32, kernel_size=3, padding=1),\n",
        "            nn.ReLU(),\n",
        "            nn.Conv1d(32, 64, kernel_size=3, padding=1),\n",
        "            nn.ReLU()\n",
        "        )\n",
        "        self.lstm = nn.LSTM(input_size=64, hidden_size=128, batch_first=True)\n",
        "        self.fc = nn.Sequential(\n",
        "            nn.Linear(128, 64),\n",
        "            nn.ReLU(),\n",
        "            nn.Linear(64, num_actions)\n",
        "        )\n",
        "    def forward(self, x):\n",
        "        # x: (batch, seq_len, features)\n",
        "        x = x.permute(0, 2, 1)\n",
        "        x = self.cnn(x)\n",
        "        x = x.permute(0, 2, 1)\n",
        "        out, _ = self.lstm(x)\n",
        "        out = out[:, -1, :]\n",
        "        q = self.fc(out)\n",
        "        return q\n"
      ]
    },
    {
      "cell_type": "code",
      "execution_count": 4,
      "id": "5e9ec910",
      "metadata": {},
      "outputs": [],
      "source": [
        "# 4. Replay Memory\n",
        "class ReplayMemory:\n",
        "    def __init__(self, capacity):\n",
        "        self.memory = deque(maxlen=capacity)\n",
        "    def push(self, state_seq, action, reward, next_state_seq, done):\n",
        "        self.memory.append((state_seq, action, reward, next_state_seq, done))\n",
        "    def sample(self, batch_size):\n",
        "        return random.sample(self.memory, batch_size)\n",
        "    def __len__(self):\n",
        "        return len(self.memory)\n"
      ]
    },
    {
      "cell_type": "code",
      "execution_count": 5,
      "id": "b9f7d29b",
      "metadata": {},
      "outputs": [],
      "source": [
        "# 5. Trading Environment (FX)\n",
        "class TradingEnvFX:\n",
        "    def __init__(self, X_sequences, initial_cash=10000.0, transaction_cost=0.0005, price_idx=2):\n",
        "        self.X = X_sequences\n",
        "        self.n_ticks = X_sequences.shape[0]\n",
        "        self.initial_cash = float(initial_cash)\n",
        "        self.transaction_cost = float(transaction_cost)\n",
        "        self.price_idx = int(price_idx)\n",
        "        self.reset()\n",
        "    def _price_at(self, t):\n",
        "        return float(self.X[t, -1, self.price_idx])\n",
        "    def _portfolio_value(self, price, cash=None, zar=None):\n",
        "        if cash is None: cash = self.cash\n",
        "        if zar is None: zar = self.zar_holdings\n",
        "        return float(cash + (zar / price if price > 0 else 0.0))\n",
        "    def reset(self):\n",
        "        self.current_step = 0\n",
        "        self.cash = self.initial_cash\n",
        "        self.zar_holdings = 0.0\n",
        "        self.last_buy_rate = None\n",
        "        self.done = False\n",
        "        return self.X[self.current_step]\n",
        "    def step(self, action):\n",
        "        if self.done:\n",
        "            raise RuntimeError('Episode finished. Call reset().')\n",
        "        price_t = self._price_at(self.current_step)\n",
        "        value_before = self._portfolio_value(price_t)\n",
        "        if action == 0:\n",
        "            if self.cash > 0.0:\n",
        "                zar_bought = self.cash * (1.0 - self.transaction_cost) * price_t\n",
        "                self.zar_holdings += zar_bought\n",
        "                self.cash = 0.0\n",
        "                self.last_buy_rate = price_t\n",
        "        elif action == 1:\n",
        "            if self.zar_holdings > 0.0 and self.last_buy_rate is not None and price_t < self.last_buy_rate:\n",
        "                usd_received = (self.zar_holdings / price_t) * (1.0 - self.transaction_cost)\n",
        "                self.cash += usd_received\n",
        "                self.zar_holdings = 0.0\n",
        "                self.last_buy_rate = None\n",
        "        # else hold\n",
        "        self.current_step += 1\n",
        "        if self.current_step >= self.n_ticks - 1:\n",
        "            self.done = True\n",
        "            next_state = self.X[self.n_ticks - 1]\n",
        "            next_price = self._price_at(self.n_ticks - 1)\n",
        "        else:\n",
        "            next_state = self.X[self.current_step]\n",
        "            next_price = self._price_at(self.current_step)\n",
        "        value_after = self._portfolio_value(next_price)\n",
        "        reward = value_after - value_before\n",
        "        return next_state, reward, self.done, {\n",
        "            'price_t': price_t,\n",
        "            'price_next': next_price,\n",
        "            'cash': self.cash,\n",
        "            'zar': self.zar_holdings,\n",
        "            'value_before': value_before,\n",
        "            'value_after': value_after,\n",
        "            'last_buy_rate': self.last_buy_rate\n",
        "        }\n"
      ]
    },
    {
      "cell_type": "code",
      "execution_count": 6,
      "id": "f5de7319",
      "metadata": {},
      "outputs": [],
      "source": [
        "# 6. DQN Agent\n",
        "class DQNAgent:\n",
        "    def __init__(self, sequence_shape, num_actions):\n",
        "        self.model = CNN_LSTM_DQN(\n",
        "            num_features=sequence_shape[1],\n",
        "            sequence_length=sequence_shape[0],\n",
        "            num_actions=num_actions\n",
        "        ).to(device)\n",
        "        self.target_model = CNN_LSTM_DQN(\n",
        "            num_features=sequence_shape[1],\n",
        "            sequence_length=sequence_shape[0],\n",
        "            num_actions=num_actions\n",
        "        ).to(device)\n",
        "        self.target_model.load_state_dict(self.model.state_dict())\n",
        "        self.target_model.eval()\n",
        "        self.memory = ReplayMemory(memory_size)\n",
        "        self.optimizer = optim.Adam(self.model.parameters(), lr=lr)\n",
        "        self.epsilon = epsilon_start\n",
        "    def select_action(self, state_seq):\n",
        "        if random.random() < self.epsilon:\n",
        "            return random.randrange(num_actions)\n",
        "        with torch.no_grad():\n",
        "            x = torch.tensor(state_seq, dtype=torch.float32, device=device).unsqueeze(0)\n",
        "            q_values = self.model(x)\n",
        "            return int(q_values.argmax(dim=1).item())\n",
        "    def train_step(self, batch_size):\n",
        "        if len(self.memory) < batch_size:\n",
        "            return None\n",
        "        batch = self.memory.sample(batch_size)\n",
        "        states, actions, rewards, next_states, dones = zip(*batch)\n",
        "        state_seq = torch.tensor(np.array(states), dtype=torch.float32, device=device)\n",
        "        next_state_seq = torch.tensor(np.array(next_states), dtype=torch.float32, device=device)\n",
        "        actions = torch.tensor(actions, dtype=torch.long, device=device)\n",
        "        rewards = torch.tensor(rewards, dtype=torch.float32, device=device)\n",
        "        dones = torch.tensor(dones, dtype=torch.float32, device=device)\n",
        "        q_values = self.model(state_seq)\n",
        "        q_sa = q_values.gather(1, actions.unsqueeze(1)).squeeze(1)\n",
        "        with torch.no_grad():\n",
        "            next_q_values = self.target_model(next_state_seq).max(dim=1)[0]\n",
        "            target = rewards + gamma * next_q_values * (1.0 - dones)\n",
        "        loss = nn.MSELoss()(q_sa, target)\n",
        "        self.optimizer.zero_grad()\n",
        "        loss.backward()\n",
        "        self.optimizer.step()\n",
        "        self.epsilon = max(epsilon_end, self.epsilon * epsilon_decay)\n",
        "        return float(loss.item())\n",
        "    def update_target(self):\n",
        "        self.target_model.load_state_dict(self.model.state_dict())\n"
      ]
    },
    {
      "cell_type": "code",
      "execution_count": 7,
      "id": "6b27e14f",
      "metadata": {},
      "outputs": [
        {
          "data": {
            "text/plain": [
              "True"
            ]
          },
          "execution_count": 7,
          "metadata": {},
          "output_type": "execute_result"
        }
      ],
      "source": [
        "# Step 1: Find project root dynamically (look for folder containing .env)\n",
        "current_dir = os.getcwd()\n",
        "project_root = current_dir\n",
        "\n",
        "while not os.path.isfile(os.path.join(project_root, \".env\")):\n",
        "    # Go one directory up\n",
        "    parent_dir = os.path.abspath(os.path.join(project_root, \"..\"))\n",
        "    if parent_dir == project_root:\n",
        "        raise FileNotFoundError(\".env file not found in any parent directory\")\n",
        "    project_root = parent_dir\n",
        "\n",
        "# Step 2: Load .env from project root\n",
        "load_dotenv(os.path.join(project_root, \".env\"))"
      ]
    },
    {
      "cell_type": "code",
      "execution_count": 15,
      "id": "2a5e91c4",
      "metadata": {},
      "outputs": [
        {
          "name": "stdout",
          "output_type": "stream",
          "text": [
            "Device: cpu\n"
          ]
        }
      ],
      "source": [
        "# 8. Build Env & Agent\n",
        "import numpy as np\n",
        "import os\n",
        "\n",
        "data_path = os.path.join(os.getenv(\"DATA_DIR_PROCESSED\"), \"X_sequences.npy\")\n",
        "X_sequences = np.load(data_path, allow_pickle=True)\n",
        "\n",
        "env = TradingEnvFX(\n",
        "    X_sequences=X_sequences,\n",
        "    initial_cash=10000.0,\n",
        "    transaction_cost=0.0005,\n",
        "    price_idx=2\n",
        ")\n",
        "agent = DQNAgent(sequence_shape=(sequence_length, num_features), num_actions=num_actions)\n",
        "print('Device:', device)\n"
      ]
    },
    {
      "cell_type": "code",
      "execution_count": 17,
      "id": "fa5bf558",
      "metadata": {},
      "outputs": [
        {
          "name": "stdout",
          "output_type": "stream",
          "text": [
            "Episode 001 | Steps 5347 | Total Reward: -10000.00 | Epsilon: 0.100\n",
            "Episode 002 | Steps 5347 | Total Reward: -10000.00 | Epsilon: 0.100\n",
            "Episode 003 | Steps 5347 | Total Reward: -10000.00 | Epsilon: 0.100\n",
            "Episode 004 | Steps 5347 | Total Reward: -10000.00 | Epsilon: 0.100\n",
            "Episode 005 | Steps 5347 | Total Reward: -476753.02 | Epsilon: 0.100\n"
          ]
        }
      ],
      "source": [
        "# 9. Training Loop (short demo run)\n",
        "total_rewards = []\n",
        "losses = []\n",
        "num_episodes_run = 5\n",
        "for episode in range(1, num_episodes_run + 1):\n",
        "    state = env.reset()\n",
        "    done = False\n",
        "    total_reward = 0.0\n",
        "    steps = 0\n",
        "    while not done:\n",
        "        action = agent.select_action(state)\n",
        "        next_state, reward, done, info = env.step(action)\n",
        "        agent.memory.push(state, action, reward, next_state, done)\n",
        "        loss = agent.train_step(batch_size)\n",
        "        if loss is not None:\n",
        "            losses.append(loss)\n",
        "        state = next_state\n",
        "        total_reward += reward\n",
        "        steps += 1\n",
        "    if episode % target_update_every == 0:\n",
        "        agent.update_target()\n",
        "    total_rewards.append(total_reward)\n",
        "    print(f\"Episode {episode:03d} | Steps {steps:4d} | Total Reward: {total_reward:8.2f} | Epsilon: {agent.epsilon:0.3f}\")\n"
      ]
    },
    {
      "cell_type": "code",
      "execution_count": 95,
      "id": "6957ccd7",
      "metadata": {},
      "outputs": [
        {
          "data": {
            "image/png": "[encoded data removed]",
            "text/plain": [
              "<Figure size 1200x500 with 1 Axes>"
            ]
          },
          "metadata": {},
          "output_type": "display_data"
        }
      ],
      "source": [
        "# 10. Plot training rewards and losses\n",
        "plt.figure(figsize=(12,5))\n",
        "plt.plot(total_rewards)\n",
        "plt.title('Total Reward per Episode')\n",
        "plt.xlabel('Episode')\n",
        "plt.ylabel('Total Reward (USD)')\n",
        "plt.savefig(os.path.join(os.getenv(\"MODEL_OUTPUT_IMG_PATH\"), \"total_rewards.png\"))\n",
        "plt.grid(True)\n",
        "\n"
      ]
    },
    {
      "cell_type": "code",
      "execution_count": 23,
      "id": "494523df",
      "metadata": {},
      "outputs": [
        {
          "name": "stdout",
          "output_type": "stream",
          "text": [
            "Saved model to /project/model/dqn_fx_model.pth\n"
          ]
        }
      ],
      "source": [
        "# 11. Save model\n",
        "torch.save(agent.model.state_dict(), os.path.join(os.getenv(\"DATA_DIR_PROCESSED\"), 'dqn_fx_model.pth'))\n",
        "print('Saved model to /project/model/dqn_fx_model.pth')\n"
      ]
    }
  ],
  "metadata": {
    "kernelspec": {
      "display_name": "fe-course",
      "language": "python",
      "name": "python3"
    },
    "language_info": {
      "codemirror_mode": {
        "name": "ipython",
        "version": 3
      },
      "file_extension": ".py",
      "mimetype": "text/x-python",
      "name": "python",
      "nbconvert_exporter": "python",
      "pygments_lexer": "ipython3",
      "version": "3.11.13"
    }
  },
  "nbformat": 4,
  "nbformat_minor": 5
}
