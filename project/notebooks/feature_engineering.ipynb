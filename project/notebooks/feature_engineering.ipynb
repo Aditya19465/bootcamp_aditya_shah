{
 "cells": [
  {
   "cell_type": "code",
   "execution_count": 41,
   "id": "e5ffb2f0",
   "metadata": {},
   "outputs": [],
   "source": [
    "# -----------------------------\n",
    "# 1. Imports\n",
    "# -----------------------------\n",
    "import pandas as pd\n",
    "import numpy as np\n",
    "from sklearn.preprocessing import StandardScaler\n",
    "from dotenv import load_dotenv\n",
    "import os\n"
   ]
  },
  {
   "cell_type": "code",
   "execution_count": 42,
   "id": "3f0efc6f",
   "metadata": {},
   "outputs": [
    {
     "data": {
      "text/plain": [
       "True"
      ]
     },
     "execution_count": 42,
     "metadata": {},
     "output_type": "execute_result"
    }
   ],
   "source": [
    "#LOAD ENV\n",
    "current_dir = os.getcwd()\n",
    "project_root = current_dir\n",
    "\n",
    "while not os.path.isfile(os.path.join(project_root, \".env\")):\n",
    "    # Go one directory up\n",
    "    parent_dir = os.path.abspath(os.path.join(project_root, \"..\"))\n",
    "    if parent_dir == project_root:\n",
    "        raise FileNotFoundError(\".env file not found in any parent directory\")\n",
    "    project_root = parent_dir\n",
    "\n",
    "# Step 2: Load .env from project root\n",
    "load_dotenv(os.path.join(project_root, \".env\"))\n"
   ]
  },
  {
   "cell_type": "code",
   "execution_count": null,
   "id": "69e69f2a",
   "metadata": {},
   "outputs": [
    {
     "name": "stdout",
     "output_type": "stream",
     "text": [
      "Number of ticks after date filtering: 272319\n",
      "Number of ticks after downsampling: 5447\n"
     ]
    }
   ],
   "source": [
    "\n",
    "# -----------------------------\n",
    "# 2. Load Cleaned Data\n",
    "# -----------------------------\n",
    "df = pd.read_parquet(os.getenv(\"DATA_DIR_PROCESSED\") + \"/USD_ZAR_2025_07.parquet\")\n",
    "df['date_time'] = pd.to_datetime(df['date_time'])\n",
    "df = df.sort_values('date_time').reset_index(drop=True)\n",
    "\n",
    "\n",
    "# -----------------------------\n",
    "# Subset 1 days\n",
    "# -----------------------------\n",
    "start_date = '2025-07-01'\n",
    "end_date = '2025-07-02'  # exclusive\n",
    "df = df[(df['date_time'] >= start_date) & (df['date_time'] < end_date)].reset_index(drop=True)\n",
    "print(\"Number of ticks after date filtering:\", len(df))\n",
    "\n",
    "# -----------------------------\n",
    "# Downsample every 50th tick\n",
    "# -----------------------------\n",
    "df = df.iloc[::50].reset_index(drop=True)\n",
    "print(\"Number of ticks after downsampling:\", len(df))\n"
   ]
  },
  {
   "cell_type": "code",
   "execution_count": 44,
   "id": "0310f960",
   "metadata": {},
   "outputs": [],
   "source": [
    "\n",
    "# -----------------------------\n",
    "# 3. Base Features\n",
    "# -----------------------------\n",
    "# Mid-price\n",
    "df['mid_price'] = (df['bid'] + df['ask']) / 2\n",
    "\n",
    "# Spread\n",
    "df['spread'] = df['ask'] - df['bid']\n",
    "\n",
    "# Price changes (momentum)\n",
    "df['delta_bid'] = df['bid'].diff()\n",
    "df['delta_ask'] = df['ask'].diff()\n",
    "df['delta_mid'] = df['mid_price'].diff()\n",
    "\n",
    "# Rolling statistics\n",
    "df['roll_mean_5'] = df['mid_price'].rolling(5).mean()\n",
    "df['roll_std_50'] = df['mid_price'].rolling(50).std()\n",
    "df['roll_mean_10'] = df['mid_price'].rolling(10).mean()\n",
    "\n",
    "# Drop initial NaNs from rolling windows\n",
    "df = df.dropna().reset_index(drop=True)\n",
    "\n"
   ]
  },
  {
   "cell_type": "code",
   "execution_count": 45,
   "id": "e42d8888",
   "metadata": {},
   "outputs": [],
   "source": [
    "# -----------------------------\n",
    "# 4. Normalize Features\n",
    "# -----------------------------\n",
    "features = ['bid', 'ask', 'mid_price', 'spread', 'delta_bid', 'delta_ask', 'delta_mid', 'roll_mean_5', 'roll_mean_10', 'roll_std_50']\n",
    "scaler = StandardScaler()\n",
    "df[features] = scaler.fit_transform(df[features])\n",
    "\n"
   ]
  },
  {
   "cell_type": "code",
   "execution_count": 46,
   "id": "9946584f",
   "metadata": {},
   "outputs": [
    {
     "name": "stdout",
     "output_type": "stream",
     "text": [
      "Sequences shape: (5348, 50, 10)\n",
      "Timestamps shape: (5348,)\n"
     ]
    }
   ],
   "source": [
    "# -----------------------------\n",
    "# 5. Create sequence windows\n",
    "# -----------------------------\n",
    "sequence_length = 50\n",
    "X_sequences = []\n",
    "timestamps = []\n",
    "\n",
    "for i in range(len(df) - sequence_length):\n",
    "    X_sequences.append(df[features].iloc[i:i+sequence_length].values)\n",
    "    timestamps.append(df['date_time'].iloc[i+sequence_length-1])\n",
    "\n",
    "X_sequences = np.array(X_sequences)\n",
    "timestamps = np.array(timestamps)\n",
    "\n",
    "print(\"Sequences shape:\", X_sequences.shape)\n",
    "print(\"Timestamps shape:\", timestamps.shape)"
   ]
  },
  {
   "cell_type": "code",
   "execution_count": 47,
   "id": "dd2324f1",
   "metadata": {},
   "outputs": [],
   "source": [
    "# -----------------------------\n",
    "# 6. Add Portfolio / Budget Placeholder\n",
    "# -----------------------------\n",
    "# In RL, state will also include current cash and USD holdings\n",
    "# For now, initialize as zeros (will be updated in RL environment)\n",
    "num_samples = X_sequences.shape[0]\n",
    "portfolio_features = np.zeros((num_samples, 2))  # [cash, usd_holdings]\n",
    "\n",
    "# Combine with sequence features if needed\n",
    "# Depending on RL implementation, this can be added as extra features or separate input\n",
    "\n"
   ]
  },
  {
   "cell_type": "code",
   "execution_count": 48,
   "id": "48ba8815",
   "metadata": {},
   "outputs": [
    {
     "name": "stdout",
     "output_type": "stream",
     "text": [
      "Feature sequences saved in data/processed/\n"
     ]
    }
   ],
   "source": [
    "# -----------------------------\n",
    "# 7. Save Feature Dataset\n",
    "# -----------------------------\n",
    "np.save(os.getenv(\"DATA_DIR_PROCESSED\")+\"/X_sequences.npy\", X_sequences)\n",
    "np.save(os.getenv(\"DATA_DIR_PROCESSED\")+\"/timestamps.npy\", timestamps)\n",
    "np.save(os.getenv(\"DATA_DIR_PROCESSED\")+\"/portfolio_features.npy\", portfolio_features)\n",
    "\n",
    "print(\"Feature sequences saved in data/processed/\")\n"
   ]
  }
 ],
 "metadata": {
  "kernelspec": {
   "display_name": "fe-course",
   "language": "python",
   "name": "python3"
  },
  "language_info": {
   "codemirror_mode": {
    "name": "ipython",
    "version": 3
   },
   "file_extension": ".py",
   "mimetype": "text/x-python",
   "name": "python",
   "nbconvert_exporter": "python",
   "pygments_lexer": "ipython3",
   "version": "3.11.13"
  }
 },
 "nbformat": 4,
 "nbformat_minor": 5
}
