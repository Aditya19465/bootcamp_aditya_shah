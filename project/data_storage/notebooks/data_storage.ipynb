{
 "cells": [
  {
   "cell_type": "code",
   "execution_count": 27,
   "id": "85f22340",
   "metadata": {},
   "outputs": [],
   "source": [
    "import os, pathlib, datetime as dt\n",
    "from dotenv import load_dotenv\n",
    "import zipfile\n",
    "import numpy as np\n",
    "import pandas as pd"
   ]
  },
  {
   "cell_type": "code",
   "execution_count": 28,
   "id": "7401e515",
   "metadata": {},
   "outputs": [
    {
     "name": "stdout",
     "output_type": "stream",
     "text": [
      "RAW -> /Users/aditya/Documents/bootcamp_aditya_shah/project/data_storage/data/raw\n",
      "PROC -> /Users/aditya/Documents/bootcamp_aditya_shah/project/data_storage/data/processed\n"
     ]
    }
   ],
   "source": [
    "\n",
    "\n",
    "# Step 1: Find project root dynamically (look for folder containing .env)\n",
    "current_dir = os.getcwd()\n",
    "project_root = current_dir\n",
    "\n",
    "while not os.path.isfile(os.path.join(project_root, \".env\")):\n",
    "    # Go one directory up\n",
    "    parent_dir = os.path.abspath(os.path.join(project_root, \"..\"))\n",
    "    if parent_dir == project_root:\n",
    "        raise FileNotFoundError(\".env file not found in any parent directory\")\n",
    "    project_root = parent_dir\n",
    "\n",
    "# Step 2: Load .env from project root\n",
    "load_dotenv(os.path.join(project_root, \".env\"))\n",
    "\n",
    "RAW = pathlib.Path(os.getenv('DATA_DIR_RAW', 'data/raw'))\n",
    "PROC = pathlib.Path(os.getenv('DATA_DIR_PROCESSED', 'data/processed'))\n",
    "\n",
    "RAW.mkdir(parents=True, exist_ok=True)\n",
    "PROC.mkdir(parents=True, exist_ok=True)\n",
    "print('RAW ->', RAW.resolve())\n",
    "print('PROC ->', PROC.resolve())"
   ]
  },
  {
   "cell_type": "code",
   "execution_count": 29,
   "id": "ac7c0f35",
   "metadata": {},
   "outputs": [
    {
     "name": "stdout",
     "output_type": "stream",
     "text": [
      "Path to zip file: /Users/aditya/Documents/bootcamp_aditya_shah/project/data_acquisition/data/USDZAR-2025-07.zip\n"
     ]
    }
   ],
   "source": [
    "path = os.getenv(\"DOWNLOAD_DATA_ACQUISITION_DIRECTORY\") + \"/USDZAR-2025-07.zip\"\n",
    "print('Path to zip file:', path)"
   ]
  },
  {
   "cell_type": "code",
   "execution_count": 30,
   "id": "5a5dbdf6",
   "metadata": {},
   "outputs": [
    {
     "name": "stdout",
     "output_type": "stream",
     "text": [
      "         0                      1        2        3\n",
      "0  USD/ZAR  20250701 00:00:00.078  17.7147  17.7272\n",
      "1  USD/ZAR  20250701 00:00:00.141  17.7123  17.7338\n",
      "2  USD/ZAR  20250701 00:00:00.156  17.7167  17.7267\n",
      "3  USD/ZAR  20250701 00:00:00.234  17.7185  17.7267\n",
      "4  USD/ZAR  20250701 00:00:00.234  17.7185  17.7272\n"
     ]
    }
   ],
   "source": [
    "df = pd.read_csv(path, header= None)\n",
    "print(df.head())\n"
   ]
  },
  {
   "cell_type": "code",
   "execution_count": 31,
   "id": "e7d53993",
   "metadata": {},
   "outputs": [
    {
     "data": {
      "text/html": [
       "<div>\n",
       "<style scoped>\n",
       "    .dataframe tbody tr th:only-of-type {\n",
       "        vertical-align: middle;\n",
       "    }\n",
       "\n",
       "    .dataframe tbody tr th {\n",
       "        vertical-align: top;\n",
       "    }\n",
       "\n",
       "    .dataframe thead th {\n",
       "        text-align: right;\n",
       "    }\n",
       "</style>\n",
       "<table border=\"1\" class=\"dataframe\">\n",
       "  <thead>\n",
       "    <tr style=\"text-align: right;\">\n",
       "      <th></th>\n",
       "      <th>exchange</th>\n",
       "      <th>date_time</th>\n",
       "      <th>bid</th>\n",
       "      <th>ask</th>\n",
       "    </tr>\n",
       "  </thead>\n",
       "  <tbody>\n",
       "    <tr>\n",
       "      <th>0</th>\n",
       "      <td>USD/ZAR</td>\n",
       "      <td>20250701 00:00:00.078</td>\n",
       "      <td>17.7147</td>\n",
       "      <td>17.7272</td>\n",
       "    </tr>\n",
       "    <tr>\n",
       "      <th>1</th>\n",
       "      <td>USD/ZAR</td>\n",
       "      <td>20250701 00:00:00.141</td>\n",
       "      <td>17.7123</td>\n",
       "      <td>17.7338</td>\n",
       "    </tr>\n",
       "    <tr>\n",
       "      <th>2</th>\n",
       "      <td>USD/ZAR</td>\n",
       "      <td>20250701 00:00:00.156</td>\n",
       "      <td>17.7167</td>\n",
       "      <td>17.7267</td>\n",
       "    </tr>\n",
       "    <tr>\n",
       "      <th>3</th>\n",
       "      <td>USD/ZAR</td>\n",
       "      <td>20250701 00:00:00.234</td>\n",
       "      <td>17.7185</td>\n",
       "      <td>17.7267</td>\n",
       "    </tr>\n",
       "    <tr>\n",
       "      <th>4</th>\n",
       "      <td>USD/ZAR</td>\n",
       "      <td>20250701 00:00:00.234</td>\n",
       "      <td>17.7185</td>\n",
       "      <td>17.7272</td>\n",
       "    </tr>\n",
       "  </tbody>\n",
       "</table>\n",
       "</div>"
      ],
      "text/plain": [
       "  exchange              date_time      bid      ask\n",
       "0  USD/ZAR  20250701 00:00:00.078  17.7147  17.7272\n",
       "1  USD/ZAR  20250701 00:00:00.141  17.7123  17.7338\n",
       "2  USD/ZAR  20250701 00:00:00.156  17.7167  17.7267\n",
       "3  USD/ZAR  20250701 00:00:00.234  17.7185  17.7267\n",
       "4  USD/ZAR  20250701 00:00:00.234  17.7185  17.7272"
      ]
     },
     "execution_count": 31,
     "metadata": {},
     "output_type": "execute_result"
    }
   ],
   "source": [
    "df.columns = [\"exchange\", \"date_time\", \"bid\", \"ask\"]\n",
    "df.head(5)"
   ]
  },
  {
   "cell_type": "code",
   "execution_count": 32,
   "id": "3498a86c",
   "metadata": {},
   "outputs": [
    {
     "data": {
      "text/plain": [
       "PosixPath('/Users/aditya/Documents/bootcamp_aditya_shah/project/data_storage/data/processed/USD_ZAR_2025_07.parquet')"
      ]
     },
     "execution_count": 32,
     "metadata": {},
     "output_type": "execute_result"
    }
   ],
   "source": [
    "\n",
    "# TODO: Save CSV\n",
    "csv_path = RAW / \"USD_ZAR_2025_07.csv\"\n",
    "df.to_csv(csv_path, index=False)\n",
    "csv_path\n",
    "\n",
    "# TODO: Save Parquet\n",
    "pq_path = PROC / f\"USD_ZAR_2025_07.parquet\"\n",
    "try:\n",
    "    df.to_parquet(pq_path)\n",
    "except Exception as e:\n",
    "    print('Parquet engine not available. Install pyarrow or fastparquet to complete this step.')\n",
    "    pq_path = None\n",
    "pq_path"
   ]
  },
  {
   "cell_type": "code",
   "execution_count": 33,
   "id": "cd2b7da7",
   "metadata": {},
   "outputs": [],
   "source": [
    "\n",
    "\n",
    "def validate_loaded(original: pd.DataFrame, reloaded: pd.DataFrame) -> dict:\n",
    "    \"\"\"\n",
    "    Validate that the reloaded DataFrame matches expected structure and dtypes.\n",
    "    \"\"\"\n",
    "    checks = {\n",
    "        # Shape check\n",
    "        'shape_equal': original.shape == reloaded.shape,\n",
    "        \n",
    "        # Column checks\n",
    "        'has_columns': list(reloaded.columns) == [\"exchange\", \"date_time\", \"bid\", \"ask\"],\n",
    "        \n",
    "        # Type checks\n",
    "        'exchange_is_string': pd.api.types.is_string_dtype(reloaded['exchange']) if 'exchange' in reloaded.columns else False,\n",
    "        'date_time_is_datetime': pd.api.types.is_datetime64_any_dtype(reloaded['date_time']) if 'date_time' in reloaded.columns else False,\n",
    "        'bid_is_numeric': pd.api.types.is_numeric_dtype(reloaded['bid']) if 'bid' in reloaded.columns else False,\n",
    "        'ask_is_numeric': pd.api.types.is_numeric_dtype(reloaded['ask']) if 'ask' in reloaded.columns else False,\n",
    "    }\n",
    "    return checks\n"
   ]
  },
  {
   "cell_type": "code",
   "execution_count": 34,
   "id": "50bf892c",
   "metadata": {},
   "outputs": [],
   "source": [
    "if pq_path:\n",
    "    try:\n",
    "        df_pq = pd.read_parquet(pq_path)\n",
    "        validate_loaded(df, df_pq)\n",
    "    except Exception as e:\n",
    "        print('Parquet read failed:', e)"
   ]
  }
 ],
 "metadata": {
  "kernelspec": {
   "display_name": "fe-course",
   "language": "python",
   "name": "python3"
  },
  "language_info": {
   "codemirror_mode": {
    "name": "ipython",
    "version": 3
   },
   "file_extension": ".py",
   "mimetype": "text/x-python",
   "name": "python",
   "nbconvert_exporter": "python",
   "pygments_lexer": "ipython3",
   "version": "3.11.13"
  }
 },
 "nbformat": 4,
 "nbformat_minor": 5
}
